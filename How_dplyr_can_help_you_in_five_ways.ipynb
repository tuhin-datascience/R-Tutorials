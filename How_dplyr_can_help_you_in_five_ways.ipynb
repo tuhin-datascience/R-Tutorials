{
  "nbformat": 4,
  "nbformat_minor": 0,
  "metadata": {
    "colab": {
      "provenance": []
    },
    "kernelspec": {
      "name": "ir",
      "display_name": "R"
    },
    "language_info": {
      "name": "R"
    }
  },
  "cells": [
    {
      "cell_type": "markdown",
      "source": [
        "## **How dplyr can help you in easy five ways?**"
      ],
      "metadata": {
        "id": "gN50dXRqFnCa"
      }
    },
    {
      "cell_type": "markdown",
      "source": [
        "If you want to manipulate your data in R then `dplyr` package is your best choice. The code written with `dplyr` is a very easy read even for a non-technical person. \n",
        "\n",
        "It is part of the `tidyverse` package, so when you install `tidyverse` it automatically installs `dplyr`. \n",
        "\n",
        "There are a few commands are there in the `dplyr` which are popularly known as the 'verb' of `dplyr` but they are very powerful commands. \n",
        "\n",
        "Here we are going to explore five verbs of **dplyr**; **arrange()**, **select()**, **filter()**, **mutate()** and **summarise()**, finally we will see how we can combine all of them and do our data exploration journey."
      ],
      "metadata": {
        "id": "KyfC59uk9jHI"
      }
    },
    {
      "cell_type": "markdown",
      "source": [
        "We will start by installing `tidyverse` package. And we call `tidyverse` in our environment it automatically installs `dplyr` as well. "
      ],
      "metadata": {
        "id": "2If-cW4O_qaU"
      }
    },
    {
      "cell_type": "code",
      "execution_count": 1,
      "metadata": {
        "id": "q_7Ve83glF43",
        "colab": {
          "base_uri": "https://localhost:8080/"
        },
        "outputId": "3cf1dbb8-7e0e-4354-db80-89ab34d627b8"
      },
      "outputs": [
        {
          "output_type": "stream",
          "name": "stderr",
          "text": [
            "Warning message in system(\"timedatectl\", intern = TRUE):\n",
            "“running command 'timedatectl' had status 1”\n",
            "── \u001b[1mAttaching packages\u001b[22m ─────────────────────────────────────── tidyverse 1.3.1 ──\n",
            "\n",
            "\u001b[32m✔\u001b[39m \u001b[34mggplot2\u001b[39m 3.4.0      \u001b[32m✔\u001b[39m \u001b[34mpurrr  \u001b[39m 0.3.5 \n",
            "\u001b[32m✔\u001b[39m \u001b[34mtibble \u001b[39m 3.1.8      \u001b[32m✔\u001b[39m \u001b[34mdplyr  \u001b[39m 1.0.10\n",
            "\u001b[32m✔\u001b[39m \u001b[34mtidyr  \u001b[39m 1.2.1      \u001b[32m✔\u001b[39m \u001b[34mstringr\u001b[39m 1.4.1 \n",
            "\u001b[32m✔\u001b[39m \u001b[34mreadr  \u001b[39m 2.1.3      \u001b[32m✔\u001b[39m \u001b[34mforcats\u001b[39m 0.5.2 \n",
            "\n",
            "── \u001b[1mConflicts\u001b[22m ────────────────────────────────────────── tidyverse_conflicts() ──\n",
            "\u001b[31m✖\u001b[39m \u001b[34mdplyr\u001b[39m::\u001b[32mfilter()\u001b[39m masks \u001b[34mstats\u001b[39m::filter()\n",
            "\u001b[31m✖\u001b[39m \u001b[34mdplyr\u001b[39m::\u001b[32mlag()\u001b[39m    masks \u001b[34mstats\u001b[39m::lag()\n",
            "\n"
          ]
        }
      ],
      "source": [
        "#install.packages(\"tidyverse\")\n",
        "library(\"tidyverse\")"
      ]
    },
    {
      "cell_type": "markdown",
      "source": [
        "Before we start exploring the capabilities of `dplyr`, we will first create a data frame and then continue our operation on the same.\n",
        "\n",
        "Here, we are using the **data_frame()** function to create a data frame. For each column, we have a vector that are containing different information about the employees. We have a data frame called 'emp' and it contains five columns namely 'name', 'gender', 'salary', 'age', and 'phone'. "
      ],
      "metadata": {
        "id": "mNeJjLrVAJeF"
      }
    },
    {
      "cell_type": "code",
      "source": [
        "emp <- data_frame(\n",
        "  name = c(\"Cian\", \"Donal\", \"Megan\", \"Mari\", \"Neil\", \"Kate\"),\n",
        "  gender = c(\"male\", \"male\", \"female\", \"female\", \"male\", \"female\"),\n",
        "  salary = c(60000, 63500, 48000, 55000, 65000, 57000),\n",
        "  age = c(32, 38, 40, 47, 35, 30),\n",
        "  phone = c(1,2,1,2,2, 2)\n",
        ")"
      ],
      "metadata": {
        "id": "TDWG_DWSlSI5",
        "colab": {
          "base_uri": "https://localhost:8080/"
        },
        "outputId": "5b91c1dd-a013-4413-82a8-7ff08918b696"
      },
      "execution_count": 2,
      "outputs": [
        {
          "output_type": "stream",
          "name": "stderr",
          "text": [
            "Warning message:\n",
            "“\u001b[1m\u001b[22m`data_frame()` was deprecated in tibble 1.1.0.\n",
            "\u001b[36mℹ\u001b[39m Please use `tibble()` instead.”\n"
          ]
        }
      ]
    },
    {
      "cell_type": "markdown",
      "source": [
        "Now we have created the data frame, let's check the data it contains."
      ],
      "metadata": {
        "id": "pAi-8Tshd4yp"
      }
    },
    {
      "cell_type": "code",
      "source": [
        "head(emp)"
      ],
      "metadata": {
        "colab": {
          "base_uri": "https://localhost:8080/",
          "height": 286
        },
        "id": "VMtvSTi-mXt3",
        "outputId": "f235b775-acec-4c60-9b5c-9702513d3a2a"
      },
      "execution_count": 3,
      "outputs": [
        {
          "output_type": "display_data",
          "data": {
            "text/html": [
              "<table class=\"dataframe\">\n",
              "<caption>A tibble: 6 × 5</caption>\n",
              "<thead>\n",
              "\t<tr><th scope=col>name</th><th scope=col>gender</th><th scope=col>salary</th><th scope=col>age</th><th scope=col>phone</th></tr>\n",
              "\t<tr><th scope=col>&lt;chr&gt;</th><th scope=col>&lt;chr&gt;</th><th scope=col>&lt;dbl&gt;</th><th scope=col>&lt;dbl&gt;</th><th scope=col>&lt;dbl&gt;</th></tr>\n",
              "</thead>\n",
              "<tbody>\n",
              "\t<tr><td>Cian </td><td>male  </td><td>60000</td><td>32</td><td>1</td></tr>\n",
              "\t<tr><td>Donal</td><td>male  </td><td>63500</td><td>38</td><td>2</td></tr>\n",
              "\t<tr><td>Megan</td><td>female</td><td>48000</td><td>40</td><td>1</td></tr>\n",
              "\t<tr><td>Mari </td><td>female</td><td>55000</td><td>47</td><td>2</td></tr>\n",
              "\t<tr><td>Neil </td><td>male  </td><td>65000</td><td>35</td><td>2</td></tr>\n",
              "\t<tr><td>Kate </td><td>female</td><td>57000</td><td>30</td><td>2</td></tr>\n",
              "</tbody>\n",
              "</table>\n"
            ],
            "text/markdown": "\nA tibble: 6 × 5\n\n| name &lt;chr&gt; | gender &lt;chr&gt; | salary &lt;dbl&gt; | age &lt;dbl&gt; | phone &lt;dbl&gt; |\n|---|---|---|---|---|\n| Cian  | male   | 60000 | 32 | 1 |\n| Donal | male   | 63500 | 38 | 2 |\n| Megan | female | 48000 | 40 | 1 |\n| Mari  | female | 55000 | 47 | 2 |\n| Neil  | male   | 65000 | 35 | 2 |\n| Kate  | female | 57000 | 30 | 2 |\n\n",
            "text/latex": "A tibble: 6 × 5\n\\begin{tabular}{lllll}\n name & gender & salary & age & phone\\\\\n <chr> & <chr> & <dbl> & <dbl> & <dbl>\\\\\n\\hline\n\t Cian  & male   & 60000 & 32 & 1\\\\\n\t Donal & male   & 63500 & 38 & 2\\\\\n\t Megan & female & 48000 & 40 & 1\\\\\n\t Mari  & female & 55000 & 47 & 2\\\\\n\t Neil  & male   & 65000 & 35 & 2\\\\\n\t Kate  & female & 57000 & 30 & 2\\\\\n\\end{tabular}\n",
            "text/plain": [
              "  name  gender salary age phone\n",
              "1 Cian  male   60000  32  1    \n",
              "2 Donal male   63500  38  2    \n",
              "3 Megan female 48000  40  1    \n",
              "4 Mari  female 55000  47  2    \n",
              "5 Neil  male   65000  35  2    \n",
              "6 Kate  female 57000  30  2    "
            ]
          },
          "metadata": {}
        }
      ]
    },
    {
      "cell_type": "markdown",
      "source": [
        "As we can see we have created the data frame successfully. Now, we will continue with the data manipulation operation with `dplyr`."
      ],
      "metadata": {
        "id": "Gxi03H3feAOU"
      }
    },
    {
      "cell_type": "markdown",
      "source": [
        "### **ARRANGE**\n",
        "\n"
      ],
      "metadata": {
        "id": "Zo6p3XDcmcOD"
      }
    },
    {
      "cell_type": "markdown",
      "source": [
        "The **arrange()** basically sort the data based on the input column(s). By default, it sorts the data in ascending order. Here, we can see an example sort the data on the number of phones each employee owns. "
      ],
      "metadata": {
        "id": "xMknx-Tdf3jB"
      }
    },
    {
      "cell_type": "code",
      "source": [
        "emp %>% arrange(phone)"
      ],
      "metadata": {
        "colab": {
          "base_uri": "https://localhost:8080/",
          "height": 286
        },
        "id": "8OT4sCoDmaxd",
        "outputId": "620f07fe-4088-459d-b7cc-4a06d5003692"
      },
      "execution_count": 4,
      "outputs": [
        {
          "output_type": "display_data",
          "data": {
            "text/html": [
              "<table class=\"dataframe\">\n",
              "<caption>A tibble: 6 × 5</caption>\n",
              "<thead>\n",
              "\t<tr><th scope=col>name</th><th scope=col>gender</th><th scope=col>salary</th><th scope=col>age</th><th scope=col>phone</th></tr>\n",
              "\t<tr><th scope=col>&lt;chr&gt;</th><th scope=col>&lt;chr&gt;</th><th scope=col>&lt;dbl&gt;</th><th scope=col>&lt;dbl&gt;</th><th scope=col>&lt;dbl&gt;</th></tr>\n",
              "</thead>\n",
              "<tbody>\n",
              "\t<tr><td>Cian </td><td>male  </td><td>60000</td><td>32</td><td>1</td></tr>\n",
              "\t<tr><td>Megan</td><td>female</td><td>48000</td><td>40</td><td>1</td></tr>\n",
              "\t<tr><td>Donal</td><td>male  </td><td>63500</td><td>38</td><td>2</td></tr>\n",
              "\t<tr><td>Mari </td><td>female</td><td>55000</td><td>47</td><td>2</td></tr>\n",
              "\t<tr><td>Neil </td><td>male  </td><td>65000</td><td>35</td><td>2</td></tr>\n",
              "\t<tr><td>Kate </td><td>female</td><td>57000</td><td>30</td><td>2</td></tr>\n",
              "</tbody>\n",
              "</table>\n"
            ],
            "text/markdown": "\nA tibble: 6 × 5\n\n| name &lt;chr&gt; | gender &lt;chr&gt; | salary &lt;dbl&gt; | age &lt;dbl&gt; | phone &lt;dbl&gt; |\n|---|---|---|---|---|\n| Cian  | male   | 60000 | 32 | 1 |\n| Megan | female | 48000 | 40 | 1 |\n| Donal | male   | 63500 | 38 | 2 |\n| Mari  | female | 55000 | 47 | 2 |\n| Neil  | male   | 65000 | 35 | 2 |\n| Kate  | female | 57000 | 30 | 2 |\n\n",
            "text/latex": "A tibble: 6 × 5\n\\begin{tabular}{lllll}\n name & gender & salary & age & phone\\\\\n <chr> & <chr> & <dbl> & <dbl> & <dbl>\\\\\n\\hline\n\t Cian  & male   & 60000 & 32 & 1\\\\\n\t Megan & female & 48000 & 40 & 1\\\\\n\t Donal & male   & 63500 & 38 & 2\\\\\n\t Mari  & female & 55000 & 47 & 2\\\\\n\t Neil  & male   & 65000 & 35 & 2\\\\\n\t Kate  & female & 57000 & 30 & 2\\\\\n\\end{tabular}\n",
            "text/plain": [
              "  name  gender salary age phone\n",
              "1 Cian  male   60000  32  1    \n",
              "2 Megan female 48000  40  1    \n",
              "3 Donal male   63500  38  2    \n",
              "4 Mari  female 55000  47  2    \n",
              "5 Neil  male   65000  35  2    \n",
              "6 Kate  female 57000  30  2    "
            ]
          },
          "metadata": {}
        }
      ]
    },
    {
      "cell_type": "markdown",
      "source": [
        "If we want to sort the data in descending order then we need to use the **desc(\"column name\")** function, inside the arrange function."
      ],
      "metadata": {
        "id": "IRyhbHRpgU8a"
      }
    },
    {
      "cell_type": "code",
      "source": [
        "emp %>% arrange(desc(salary))"
      ],
      "metadata": {
        "colab": {
          "base_uri": "https://localhost:8080/",
          "height": 286
        },
        "id": "LFCvoJyrmwIv",
        "outputId": "bb23f870-f7ff-4283-efc1-9a21f653801a"
      },
      "execution_count": 5,
      "outputs": [
        {
          "output_type": "display_data",
          "data": {
            "text/html": [
              "<table class=\"dataframe\">\n",
              "<caption>A tibble: 6 × 5</caption>\n",
              "<thead>\n",
              "\t<tr><th scope=col>name</th><th scope=col>gender</th><th scope=col>salary</th><th scope=col>age</th><th scope=col>phone</th></tr>\n",
              "\t<tr><th scope=col>&lt;chr&gt;</th><th scope=col>&lt;chr&gt;</th><th scope=col>&lt;dbl&gt;</th><th scope=col>&lt;dbl&gt;</th><th scope=col>&lt;dbl&gt;</th></tr>\n",
              "</thead>\n",
              "<tbody>\n",
              "\t<tr><td>Neil </td><td>male  </td><td>65000</td><td>35</td><td>2</td></tr>\n",
              "\t<tr><td>Donal</td><td>male  </td><td>63500</td><td>38</td><td>2</td></tr>\n",
              "\t<tr><td>Cian </td><td>male  </td><td>60000</td><td>32</td><td>1</td></tr>\n",
              "\t<tr><td>Kate </td><td>female</td><td>57000</td><td>30</td><td>2</td></tr>\n",
              "\t<tr><td>Mari </td><td>female</td><td>55000</td><td>47</td><td>2</td></tr>\n",
              "\t<tr><td>Megan</td><td>female</td><td>48000</td><td>40</td><td>1</td></tr>\n",
              "</tbody>\n",
              "</table>\n"
            ],
            "text/markdown": "\nA tibble: 6 × 5\n\n| name &lt;chr&gt; | gender &lt;chr&gt; | salary &lt;dbl&gt; | age &lt;dbl&gt; | phone &lt;dbl&gt; |\n|---|---|---|---|---|\n| Neil  | male   | 65000 | 35 | 2 |\n| Donal | male   | 63500 | 38 | 2 |\n| Cian  | male   | 60000 | 32 | 1 |\n| Kate  | female | 57000 | 30 | 2 |\n| Mari  | female | 55000 | 47 | 2 |\n| Megan | female | 48000 | 40 | 1 |\n\n",
            "text/latex": "A tibble: 6 × 5\n\\begin{tabular}{lllll}\n name & gender & salary & age & phone\\\\\n <chr> & <chr> & <dbl> & <dbl> & <dbl>\\\\\n\\hline\n\t Neil  & male   & 65000 & 35 & 2\\\\\n\t Donal & male   & 63500 & 38 & 2\\\\\n\t Cian  & male   & 60000 & 32 & 1\\\\\n\t Kate  & female & 57000 & 30 & 2\\\\\n\t Mari  & female & 55000 & 47 & 2\\\\\n\t Megan & female & 48000 & 40 & 1\\\\\n\\end{tabular}\n",
            "text/plain": [
              "  name  gender salary age phone\n",
              "1 Neil  male   65000  35  2    \n",
              "2 Donal male   63500  38  2    \n",
              "3 Cian  male   60000  32  1    \n",
              "4 Kate  female 57000  30  2    \n",
              "5 Mari  female 55000  47  2    \n",
              "6 Megan female 48000  40  1    "
            ]
          },
          "metadata": {}
        }
      ]
    },
    {
      "cell_type": "markdown",
      "source": [
        "The `arrange()` function work on multiple columns and the precedence will take place from left to right. For example, first, we want to sort the data in ascending order on the number phone and then sort the data on the age column but that will be in descending order, in that case, we will write the following code."
      ],
      "metadata": {
        "id": "XIEgo0VIg9ro"
      }
    },
    {
      "cell_type": "code",
      "source": [
        "emp %>% arrange(phone, desc(age))"
      ],
      "metadata": {
        "colab": {
          "base_uri": "https://localhost:8080/",
          "height": 286
        },
        "id": "qGmF8zTFfQ0o",
        "outputId": "1ec45a27-666d-4e3b-a030-c87e18837658"
      },
      "execution_count": 6,
      "outputs": [
        {
          "output_type": "display_data",
          "data": {
            "text/html": [
              "<table class=\"dataframe\">\n",
              "<caption>A tibble: 6 × 5</caption>\n",
              "<thead>\n",
              "\t<tr><th scope=col>name</th><th scope=col>gender</th><th scope=col>salary</th><th scope=col>age</th><th scope=col>phone</th></tr>\n",
              "\t<tr><th scope=col>&lt;chr&gt;</th><th scope=col>&lt;chr&gt;</th><th scope=col>&lt;dbl&gt;</th><th scope=col>&lt;dbl&gt;</th><th scope=col>&lt;dbl&gt;</th></tr>\n",
              "</thead>\n",
              "<tbody>\n",
              "\t<tr><td>Megan</td><td>female</td><td>48000</td><td>40</td><td>1</td></tr>\n",
              "\t<tr><td>Cian </td><td>male  </td><td>60000</td><td>32</td><td>1</td></tr>\n",
              "\t<tr><td>Mari </td><td>female</td><td>55000</td><td>47</td><td>2</td></tr>\n",
              "\t<tr><td>Donal</td><td>male  </td><td>63500</td><td>38</td><td>2</td></tr>\n",
              "\t<tr><td>Neil </td><td>male  </td><td>65000</td><td>35</td><td>2</td></tr>\n",
              "\t<tr><td>Kate </td><td>female</td><td>57000</td><td>30</td><td>2</td></tr>\n",
              "</tbody>\n",
              "</table>\n"
            ],
            "text/markdown": "\nA tibble: 6 × 5\n\n| name &lt;chr&gt; | gender &lt;chr&gt; | salary &lt;dbl&gt; | age &lt;dbl&gt; | phone &lt;dbl&gt; |\n|---|---|---|---|---|\n| Megan | female | 48000 | 40 | 1 |\n| Cian  | male   | 60000 | 32 | 1 |\n| Mari  | female | 55000 | 47 | 2 |\n| Donal | male   | 63500 | 38 | 2 |\n| Neil  | male   | 65000 | 35 | 2 |\n| Kate  | female | 57000 | 30 | 2 |\n\n",
            "text/latex": "A tibble: 6 × 5\n\\begin{tabular}{lllll}\n name & gender & salary & age & phone\\\\\n <chr> & <chr> & <dbl> & <dbl> & <dbl>\\\\\n\\hline\n\t Megan & female & 48000 & 40 & 1\\\\\n\t Cian  & male   & 60000 & 32 & 1\\\\\n\t Mari  & female & 55000 & 47 & 2\\\\\n\t Donal & male   & 63500 & 38 & 2\\\\\n\t Neil  & male   & 65000 & 35 & 2\\\\\n\t Kate  & female & 57000 & 30 & 2\\\\\n\\end{tabular}\n",
            "text/plain": [
              "  name  gender salary age phone\n",
              "1 Megan female 48000  40  1    \n",
              "2 Cian  male   60000  32  1    \n",
              "3 Mari  female 55000  47  2    \n",
              "4 Donal male   63500  38  2    \n",
              "5 Neil  male   65000  35  2    \n",
              "6 Kate  female 57000  30  2    "
            ]
          },
          "metadata": {}
        }
      ]
    },
    {
      "cell_type": "markdown",
      "source": [
        "### **SELECT**"
      ],
      "metadata": {
        "id": "q0NrqO8unKZH"
      }
    },
    {
      "cell_type": "markdown",
      "source": [
        "As the name suggests, the **select()** function basically selects the column(s) that we define inside the select() function.\n",
        "\n",
        "If we like to select only the columns `name` and `salary` then we need to write the name of these columns inside the select() function. "
      ],
      "metadata": {
        "id": "NryiR8yph261"
      }
    },
    {
      "cell_type": "code",
      "source": [
        "emp %>%\n",
        "  select(name, salary)"
      ],
      "metadata": {
        "colab": {
          "base_uri": "https://localhost:8080/",
          "height": 286
        },
        "id": "sA2XaBiNnNCR",
        "outputId": "69f41439-24d7-44ed-ec05-722b03f8bade"
      },
      "execution_count": 7,
      "outputs": [
        {
          "output_type": "display_data",
          "data": {
            "text/html": [
              "<table class=\"dataframe\">\n",
              "<caption>A tibble: 6 × 2</caption>\n",
              "<thead>\n",
              "\t<tr><th scope=col>name</th><th scope=col>salary</th></tr>\n",
              "\t<tr><th scope=col>&lt;chr&gt;</th><th scope=col>&lt;dbl&gt;</th></tr>\n",
              "</thead>\n",
              "<tbody>\n",
              "\t<tr><td>Cian </td><td>60000</td></tr>\n",
              "\t<tr><td>Donal</td><td>63500</td></tr>\n",
              "\t<tr><td>Megan</td><td>48000</td></tr>\n",
              "\t<tr><td>Mari </td><td>55000</td></tr>\n",
              "\t<tr><td>Neil </td><td>65000</td></tr>\n",
              "\t<tr><td>Kate </td><td>57000</td></tr>\n",
              "</tbody>\n",
              "</table>\n"
            ],
            "text/markdown": "\nA tibble: 6 × 2\n\n| name &lt;chr&gt; | salary &lt;dbl&gt; |\n|---|---|\n| Cian  | 60000 |\n| Donal | 63500 |\n| Megan | 48000 |\n| Mari  | 55000 |\n| Neil  | 65000 |\n| Kate  | 57000 |\n\n",
            "text/latex": "A tibble: 6 × 2\n\\begin{tabular}{ll}\n name & salary\\\\\n <chr> & <dbl>\\\\\n\\hline\n\t Cian  & 60000\\\\\n\t Donal & 63500\\\\\n\t Megan & 48000\\\\\n\t Mari  & 55000\\\\\n\t Neil  & 65000\\\\\n\t Kate  & 57000\\\\\n\\end{tabular}\n",
            "text/plain": [
              "  name  salary\n",
              "1 Cian  60000 \n",
              "2 Donal 63500 \n",
              "3 Megan 48000 \n",
              "4 Mari  55000 \n",
              "5 Neil  65000 \n",
              "6 Kate  57000 "
            ]
          },
          "metadata": {}
        }
      ]
    },
    {
      "cell_type": "markdown",
      "source": [
        "The negative sign in front of column(s) indicates that we do not want to select that column. For example, if we want to see all the columns except the 'age' column then we will write the following code."
      ],
      "metadata": {
        "id": "PzA7KnUIiwhH"
      }
    },
    {
      "cell_type": "code",
      "source": [
        "emp %>% \n",
        "  select(-age)"
      ],
      "metadata": {
        "colab": {
          "base_uri": "https://localhost:8080/",
          "height": 286
        },
        "id": "kzp00lrmnXAQ",
        "outputId": "6c7ce1a4-e833-4e9b-8ff1-72d18a67bd3b"
      },
      "execution_count": 8,
      "outputs": [
        {
          "output_type": "display_data",
          "data": {
            "text/html": [
              "<table class=\"dataframe\">\n",
              "<caption>A tibble: 6 × 4</caption>\n",
              "<thead>\n",
              "\t<tr><th scope=col>name</th><th scope=col>gender</th><th scope=col>salary</th><th scope=col>phone</th></tr>\n",
              "\t<tr><th scope=col>&lt;chr&gt;</th><th scope=col>&lt;chr&gt;</th><th scope=col>&lt;dbl&gt;</th><th scope=col>&lt;dbl&gt;</th></tr>\n",
              "</thead>\n",
              "<tbody>\n",
              "\t<tr><td>Cian </td><td>male  </td><td>60000</td><td>1</td></tr>\n",
              "\t<tr><td>Donal</td><td>male  </td><td>63500</td><td>2</td></tr>\n",
              "\t<tr><td>Megan</td><td>female</td><td>48000</td><td>1</td></tr>\n",
              "\t<tr><td>Mari </td><td>female</td><td>55000</td><td>2</td></tr>\n",
              "\t<tr><td>Neil </td><td>male  </td><td>65000</td><td>2</td></tr>\n",
              "\t<tr><td>Kate </td><td>female</td><td>57000</td><td>2</td></tr>\n",
              "</tbody>\n",
              "</table>\n"
            ],
            "text/markdown": "\nA tibble: 6 × 4\n\n| name &lt;chr&gt; | gender &lt;chr&gt; | salary &lt;dbl&gt; | phone &lt;dbl&gt; |\n|---|---|---|---|\n| Cian  | male   | 60000 | 1 |\n| Donal | male   | 63500 | 2 |\n| Megan | female | 48000 | 1 |\n| Mari  | female | 55000 | 2 |\n| Neil  | male   | 65000 | 2 |\n| Kate  | female | 57000 | 2 |\n\n",
            "text/latex": "A tibble: 6 × 4\n\\begin{tabular}{llll}\n name & gender & salary & phone\\\\\n <chr> & <chr> & <dbl> & <dbl>\\\\\n\\hline\n\t Cian  & male   & 60000 & 1\\\\\n\t Donal & male   & 63500 & 2\\\\\n\t Megan & female & 48000 & 1\\\\\n\t Mari  & female & 55000 & 2\\\\\n\t Neil  & male   & 65000 & 2\\\\\n\t Kate  & female & 57000 & 2\\\\\n\\end{tabular}\n",
            "text/plain": [
              "  name  gender salary phone\n",
              "1 Cian  male   60000  1    \n",
              "2 Donal male   63500  2    \n",
              "3 Megan female 48000  1    \n",
              "4 Mari  female 55000  2    \n",
              "5 Neil  male   65000  2    \n",
              "6 Kate  female 57000  2    "
            ]
          },
          "metadata": {}
        }
      ]
    },
    {
      "cell_type": "markdown",
      "source": [
        "If we like to discard multiple columns then we can use a vector for the name of the columns. "
      ],
      "metadata": {
        "id": "sCb11dMtjW-6"
      }
    },
    {
      "cell_type": "code",
      "source": [
        "emp %>% \n",
        "  select(-c(\"age\", \"phone\"))"
      ],
      "metadata": {
        "colab": {
          "base_uri": "https://localhost:8080/",
          "height": 286
        },
        "id": "IABq2MrendzU",
        "outputId": "0d11f0a6-d039-43d3-cb0b-3caef0837ca5"
      },
      "execution_count": 9,
      "outputs": [
        {
          "output_type": "display_data",
          "data": {
            "text/html": [
              "<table class=\"dataframe\">\n",
              "<caption>A tibble: 6 × 3</caption>\n",
              "<thead>\n",
              "\t<tr><th scope=col>name</th><th scope=col>gender</th><th scope=col>salary</th></tr>\n",
              "\t<tr><th scope=col>&lt;chr&gt;</th><th scope=col>&lt;chr&gt;</th><th scope=col>&lt;dbl&gt;</th></tr>\n",
              "</thead>\n",
              "<tbody>\n",
              "\t<tr><td>Cian </td><td>male  </td><td>60000</td></tr>\n",
              "\t<tr><td>Donal</td><td>male  </td><td>63500</td></tr>\n",
              "\t<tr><td>Megan</td><td>female</td><td>48000</td></tr>\n",
              "\t<tr><td>Mari </td><td>female</td><td>55000</td></tr>\n",
              "\t<tr><td>Neil </td><td>male  </td><td>65000</td></tr>\n",
              "\t<tr><td>Kate </td><td>female</td><td>57000</td></tr>\n",
              "</tbody>\n",
              "</table>\n"
            ],
            "text/markdown": "\nA tibble: 6 × 3\n\n| name &lt;chr&gt; | gender &lt;chr&gt; | salary &lt;dbl&gt; |\n|---|---|---|\n| Cian  | male   | 60000 |\n| Donal | male   | 63500 |\n| Megan | female | 48000 |\n| Mari  | female | 55000 |\n| Neil  | male   | 65000 |\n| Kate  | female | 57000 |\n\n",
            "text/latex": "A tibble: 6 × 3\n\\begin{tabular}{lll}\n name & gender & salary\\\\\n <chr> & <chr> & <dbl>\\\\\n\\hline\n\t Cian  & male   & 60000\\\\\n\t Donal & male   & 63500\\\\\n\t Megan & female & 48000\\\\\n\t Mari  & female & 55000\\\\\n\t Neil  & male   & 65000\\\\\n\t Kate  & female & 57000\\\\\n\\end{tabular}\n",
            "text/plain": [
              "  name  gender salary\n",
              "1 Cian  male   60000 \n",
              "2 Donal male   63500 \n",
              "3 Megan female 48000 \n",
              "4 Mari  female 55000 \n",
              "5 Neil  male   65000 \n",
              "6 Kate  female 57000 "
            ]
          },
          "metadata": {}
        }
      ]
    },
    {
      "cell_type": "markdown",
      "source": [
        "The select() function also arranges the column in the order we like to see them, for example, if went to see the `name` first and then `phone` and then the `salary` column then we will write the following code.  "
      ],
      "metadata": {
        "id": "1bxRk4a2j_f0"
      }
    },
    {
      "cell_type": "code",
      "source": [
        "emp %>% \n",
        "  select(name, phone, salary)"
      ],
      "metadata": {
        "colab": {
          "base_uri": "https://localhost:8080/",
          "height": 286
        },
        "id": "R6bH_Psrnqpn",
        "outputId": "f5f0b322-f252-4ae6-9a49-2a2a97c7ea3f"
      },
      "execution_count": 10,
      "outputs": [
        {
          "output_type": "display_data",
          "data": {
            "text/html": [
              "<table class=\"dataframe\">\n",
              "<caption>A tibble: 6 × 3</caption>\n",
              "<thead>\n",
              "\t<tr><th scope=col>name</th><th scope=col>phone</th><th scope=col>salary</th></tr>\n",
              "\t<tr><th scope=col>&lt;chr&gt;</th><th scope=col>&lt;dbl&gt;</th><th scope=col>&lt;dbl&gt;</th></tr>\n",
              "</thead>\n",
              "<tbody>\n",
              "\t<tr><td>Cian </td><td>1</td><td>60000</td></tr>\n",
              "\t<tr><td>Donal</td><td>2</td><td>63500</td></tr>\n",
              "\t<tr><td>Megan</td><td>1</td><td>48000</td></tr>\n",
              "\t<tr><td>Mari </td><td>2</td><td>55000</td></tr>\n",
              "\t<tr><td>Neil </td><td>2</td><td>65000</td></tr>\n",
              "\t<tr><td>Kate </td><td>2</td><td>57000</td></tr>\n",
              "</tbody>\n",
              "</table>\n"
            ],
            "text/markdown": "\nA tibble: 6 × 3\n\n| name &lt;chr&gt; | phone &lt;dbl&gt; | salary &lt;dbl&gt; |\n|---|---|---|\n| Cian  | 1 | 60000 |\n| Donal | 2 | 63500 |\n| Megan | 1 | 48000 |\n| Mari  | 2 | 55000 |\n| Neil  | 2 | 65000 |\n| Kate  | 2 | 57000 |\n\n",
            "text/latex": "A tibble: 6 × 3\n\\begin{tabular}{lll}\n name & phone & salary\\\\\n <chr> & <dbl> & <dbl>\\\\\n\\hline\n\t Cian  & 1 & 60000\\\\\n\t Donal & 2 & 63500\\\\\n\t Megan & 1 & 48000\\\\\n\t Mari  & 2 & 55000\\\\\n\t Neil  & 2 & 65000\\\\\n\t Kate  & 2 & 57000\\\\\n\\end{tabular}\n",
            "text/plain": [
              "  name  phone salary\n",
              "1 Cian  1     60000 \n",
              "2 Donal 2     63500 \n",
              "3 Megan 1     48000 \n",
              "4 Mari  2     55000 \n",
              "5 Neil  2     65000 \n",
              "6 Kate  2     57000 "
            ]
          },
          "metadata": {}
        }
      ]
    },
    {
      "cell_type": "markdown",
      "source": [
        " If we have a situation in which we are interested to see a few column(s) in the front and then the rest of the columns as it is, in that case, it is tedious to write down the name of each of the columns one after another. Instead, we will write the name of the column(s) that we are interested in at the beginning and followed by another function called **everything()**. "
      ],
      "metadata": {
        "id": "ZQ3_TA2okc_A"
      }
    },
    {
      "cell_type": "code",
      "source": [
        "emp %>%\n",
        "  select(name, age, everything())"
      ],
      "metadata": {
        "colab": {
          "base_uri": "https://localhost:8080/",
          "height": 286
        },
        "id": "EYj4ykjcn1-j",
        "outputId": "c6c91d08-2d88-4c03-a93a-3481cff90051"
      },
      "execution_count": 11,
      "outputs": [
        {
          "output_type": "display_data",
          "data": {
            "text/html": [
              "<table class=\"dataframe\">\n",
              "<caption>A tibble: 6 × 5</caption>\n",
              "<thead>\n",
              "\t<tr><th scope=col>name</th><th scope=col>age</th><th scope=col>gender</th><th scope=col>salary</th><th scope=col>phone</th></tr>\n",
              "\t<tr><th scope=col>&lt;chr&gt;</th><th scope=col>&lt;dbl&gt;</th><th scope=col>&lt;chr&gt;</th><th scope=col>&lt;dbl&gt;</th><th scope=col>&lt;dbl&gt;</th></tr>\n",
              "</thead>\n",
              "<tbody>\n",
              "\t<tr><td>Cian </td><td>32</td><td>male  </td><td>60000</td><td>1</td></tr>\n",
              "\t<tr><td>Donal</td><td>38</td><td>male  </td><td>63500</td><td>2</td></tr>\n",
              "\t<tr><td>Megan</td><td>40</td><td>female</td><td>48000</td><td>1</td></tr>\n",
              "\t<tr><td>Mari </td><td>47</td><td>female</td><td>55000</td><td>2</td></tr>\n",
              "\t<tr><td>Neil </td><td>35</td><td>male  </td><td>65000</td><td>2</td></tr>\n",
              "\t<tr><td>Kate </td><td>30</td><td>female</td><td>57000</td><td>2</td></tr>\n",
              "</tbody>\n",
              "</table>\n"
            ],
            "text/markdown": "\nA tibble: 6 × 5\n\n| name &lt;chr&gt; | age &lt;dbl&gt; | gender &lt;chr&gt; | salary &lt;dbl&gt; | phone &lt;dbl&gt; |\n|---|---|---|---|---|\n| Cian  | 32 | male   | 60000 | 1 |\n| Donal | 38 | male   | 63500 | 2 |\n| Megan | 40 | female | 48000 | 1 |\n| Mari  | 47 | female | 55000 | 2 |\n| Neil  | 35 | male   | 65000 | 2 |\n| Kate  | 30 | female | 57000 | 2 |\n\n",
            "text/latex": "A tibble: 6 × 5\n\\begin{tabular}{lllll}\n name & age & gender & salary & phone\\\\\n <chr> & <dbl> & <chr> & <dbl> & <dbl>\\\\\n\\hline\n\t Cian  & 32 & male   & 60000 & 1\\\\\n\t Donal & 38 & male   & 63500 & 2\\\\\n\t Megan & 40 & female & 48000 & 1\\\\\n\t Mari  & 47 & female & 55000 & 2\\\\\n\t Neil  & 35 & male   & 65000 & 2\\\\\n\t Kate  & 30 & female & 57000 & 2\\\\\n\\end{tabular}\n",
            "text/plain": [
              "  name  age gender salary phone\n",
              "1 Cian  32  male   60000  1    \n",
              "2 Donal 38  male   63500  2    \n",
              "3 Megan 40  female 48000  1    \n",
              "4 Mari  47  female 55000  2    \n",
              "5 Neil  35  male   65000  2    \n",
              "6 Kate  30  female 57000  2    "
            ]
          },
          "metadata": {}
        }
      ]
    },
    {
      "cell_type": "markdown",
      "source": [
        "### **FILTER**"
      ],
      "metadata": {
        "id": "ItFRPfSeoBgr"
      }
    },
    {
      "cell_type": "markdown",
      "source": [
        "The **filter()** is used to select the rows from a dataset based on the filter criteria. For example, we like to see employees who have a single phone."
      ],
      "metadata": {
        "id": "XvM3DC1TocIj"
      }
    },
    {
      "cell_type": "code",
      "source": [
        "emp %>%\n",
        "  filter(phone == 1)"
      ],
      "metadata": {
        "colab": {
          "base_uri": "https://localhost:8080/",
          "height": 161
        },
        "id": "RUikTWPSoEJb",
        "outputId": "b08d4721-8821-4887-e8a6-82f4d812ea83"
      },
      "execution_count": 12,
      "outputs": [
        {
          "output_type": "display_data",
          "data": {
            "text/html": [
              "<table class=\"dataframe\">\n",
              "<caption>A tibble: 2 × 5</caption>\n",
              "<thead>\n",
              "\t<tr><th scope=col>name</th><th scope=col>gender</th><th scope=col>salary</th><th scope=col>age</th><th scope=col>phone</th></tr>\n",
              "\t<tr><th scope=col>&lt;chr&gt;</th><th scope=col>&lt;chr&gt;</th><th scope=col>&lt;dbl&gt;</th><th scope=col>&lt;dbl&gt;</th><th scope=col>&lt;dbl&gt;</th></tr>\n",
              "</thead>\n",
              "<tbody>\n",
              "\t<tr><td>Cian </td><td>male  </td><td>60000</td><td>32</td><td>1</td></tr>\n",
              "\t<tr><td>Megan</td><td>female</td><td>48000</td><td>40</td><td>1</td></tr>\n",
              "</tbody>\n",
              "</table>\n"
            ],
            "text/markdown": "\nA tibble: 2 × 5\n\n| name &lt;chr&gt; | gender &lt;chr&gt; | salary &lt;dbl&gt; | age &lt;dbl&gt; | phone &lt;dbl&gt; |\n|---|---|---|---|---|\n| Cian  | male   | 60000 | 32 | 1 |\n| Megan | female | 48000 | 40 | 1 |\n\n",
            "text/latex": "A tibble: 2 × 5\n\\begin{tabular}{lllll}\n name & gender & salary & age & phone\\\\\n <chr> & <chr> & <dbl> & <dbl> & <dbl>\\\\\n\\hline\n\t Cian  & male   & 60000 & 32 & 1\\\\\n\t Megan & female & 48000 & 40 & 1\\\\\n\\end{tabular}\n",
            "text/plain": [
              "  name  gender salary age phone\n",
              "1 Cian  male   60000  32  1    \n",
              "2 Megan female 48000  40  1    "
            ]
          },
          "metadata": {}
        }
      ]
    },
    {
      "cell_type": "markdown",
      "source": [
        "We can use both the `AND` and `OR` operators to have multiple selection criteria. Here, we have an example where we like to see employees who are female and earn a salary of more than 50000. "
      ],
      "metadata": {
        "id": "xegI3I-KpS0C"
      }
    },
    {
      "cell_type": "code",
      "source": [
        "emp  %>% \n",
        "  filter(gender == \"female\" & salary >= 50000)"
      ],
      "metadata": {
        "colab": {
          "base_uri": "https://localhost:8080/",
          "height": 161
        },
        "id": "Sq3va_iCofZ5",
        "outputId": "dbc99f15-3230-4fbd-ae2f-e397e03fe214"
      },
      "execution_count": 13,
      "outputs": [
        {
          "output_type": "display_data",
          "data": {
            "text/html": [
              "<table class=\"dataframe\">\n",
              "<caption>A tibble: 2 × 5</caption>\n",
              "<thead>\n",
              "\t<tr><th scope=col>name</th><th scope=col>gender</th><th scope=col>salary</th><th scope=col>age</th><th scope=col>phone</th></tr>\n",
              "\t<tr><th scope=col>&lt;chr&gt;</th><th scope=col>&lt;chr&gt;</th><th scope=col>&lt;dbl&gt;</th><th scope=col>&lt;dbl&gt;</th><th scope=col>&lt;dbl&gt;</th></tr>\n",
              "</thead>\n",
              "<tbody>\n",
              "\t<tr><td>Mari</td><td>female</td><td>55000</td><td>47</td><td>2</td></tr>\n",
              "\t<tr><td>Kate</td><td>female</td><td>57000</td><td>30</td><td>2</td></tr>\n",
              "</tbody>\n",
              "</table>\n"
            ],
            "text/markdown": "\nA tibble: 2 × 5\n\n| name &lt;chr&gt; | gender &lt;chr&gt; | salary &lt;dbl&gt; | age &lt;dbl&gt; | phone &lt;dbl&gt; |\n|---|---|---|---|---|\n| Mari | female | 55000 | 47 | 2 |\n| Kate | female | 57000 | 30 | 2 |\n\n",
            "text/latex": "A tibble: 2 × 5\n\\begin{tabular}{lllll}\n name & gender & salary & age & phone\\\\\n <chr> & <chr> & <dbl> & <dbl> & <dbl>\\\\\n\\hline\n\t Mari & female & 55000 & 47 & 2\\\\\n\t Kate & female & 57000 & 30 & 2\\\\\n\\end{tabular}\n",
            "text/plain": [
              "  name gender salary age phone\n",
              "1 Mari female 55000  47  2    \n",
              "2 Kate female 57000  30  2    "
            ]
          },
          "metadata": {}
        }
      ]
    },
    {
      "cell_type": "code",
      "source": [
        "emp  %>% \n",
        "  filter(gender == \"female\" | salary >= 63000)"
      ],
      "metadata": {
        "colab": {
          "base_uri": "https://localhost:8080/",
          "height": 255
        },
        "id": "9kTcuI7bovvO",
        "outputId": "3930f6cf-f03c-486d-c62d-842fbf0d697b"
      },
      "execution_count": 14,
      "outputs": [
        {
          "output_type": "display_data",
          "data": {
            "text/html": [
              "<table class=\"dataframe\">\n",
              "<caption>A tibble: 5 × 5</caption>\n",
              "<thead>\n",
              "\t<tr><th scope=col>name</th><th scope=col>gender</th><th scope=col>salary</th><th scope=col>age</th><th scope=col>phone</th></tr>\n",
              "\t<tr><th scope=col>&lt;chr&gt;</th><th scope=col>&lt;chr&gt;</th><th scope=col>&lt;dbl&gt;</th><th scope=col>&lt;dbl&gt;</th><th scope=col>&lt;dbl&gt;</th></tr>\n",
              "</thead>\n",
              "<tbody>\n",
              "\t<tr><td>Donal</td><td>male  </td><td>63500</td><td>38</td><td>2</td></tr>\n",
              "\t<tr><td>Megan</td><td>female</td><td>48000</td><td>40</td><td>1</td></tr>\n",
              "\t<tr><td>Mari </td><td>female</td><td>55000</td><td>47</td><td>2</td></tr>\n",
              "\t<tr><td>Neil </td><td>male  </td><td>65000</td><td>35</td><td>2</td></tr>\n",
              "\t<tr><td>Kate </td><td>female</td><td>57000</td><td>30</td><td>2</td></tr>\n",
              "</tbody>\n",
              "</table>\n"
            ],
            "text/markdown": "\nA tibble: 5 × 5\n\n| name &lt;chr&gt; | gender &lt;chr&gt; | salary &lt;dbl&gt; | age &lt;dbl&gt; | phone &lt;dbl&gt; |\n|---|---|---|---|---|\n| Donal | male   | 63500 | 38 | 2 |\n| Megan | female | 48000 | 40 | 1 |\n| Mari  | female | 55000 | 47 | 2 |\n| Neil  | male   | 65000 | 35 | 2 |\n| Kate  | female | 57000 | 30 | 2 |\n\n",
            "text/latex": "A tibble: 5 × 5\n\\begin{tabular}{lllll}\n name & gender & salary & age & phone\\\\\n <chr> & <chr> & <dbl> & <dbl> & <dbl>\\\\\n\\hline\n\t Donal & male   & 63500 & 38 & 2\\\\\n\t Megan & female & 48000 & 40 & 1\\\\\n\t Mari  & female & 55000 & 47 & 2\\\\\n\t Neil  & male   & 65000 & 35 & 2\\\\\n\t Kate  & female & 57000 & 30 & 2\\\\\n\\end{tabular}\n",
            "text/plain": [
              "  name  gender salary age phone\n",
              "1 Donal male   63500  38  2    \n",
              "2 Megan female 48000  40  1    \n",
              "3 Mari  female 55000  47  2    \n",
              "4 Neil  male   65000  35  2    \n",
              "5 Kate  female 57000  30  2    "
            ]
          },
          "metadata": {}
        }
      ]
    },
    {
      "cell_type": "markdown",
      "source": [
        "Let's say, we want to see the record of a few employees and we are filtering by their name. In that case, we can use multiple OR operators to filter the data. "
      ],
      "metadata": {
        "id": "oSOJqzhGpeBR"
      }
    },
    {
      "cell_type": "code",
      "source": [
        "emp %>%\n",
        "  filter(name == \"Cian\" | name == \"Neil\" | name == \"Megan\")"
      ],
      "metadata": {
        "colab": {
          "base_uri": "https://localhost:8080/",
          "height": 192
        },
        "id": "iLjTfj2Rpetb",
        "outputId": "925d3a7a-7240-4681-d8fb-49a5a2074979"
      },
      "execution_count": 15,
      "outputs": [
        {
          "output_type": "display_data",
          "data": {
            "text/html": [
              "<table class=\"dataframe\">\n",
              "<caption>A tibble: 3 × 5</caption>\n",
              "<thead>\n",
              "\t<tr><th scope=col>name</th><th scope=col>gender</th><th scope=col>salary</th><th scope=col>age</th><th scope=col>phone</th></tr>\n",
              "\t<tr><th scope=col>&lt;chr&gt;</th><th scope=col>&lt;chr&gt;</th><th scope=col>&lt;dbl&gt;</th><th scope=col>&lt;dbl&gt;</th><th scope=col>&lt;dbl&gt;</th></tr>\n",
              "</thead>\n",
              "<tbody>\n",
              "\t<tr><td>Cian </td><td>male  </td><td>60000</td><td>32</td><td>1</td></tr>\n",
              "\t<tr><td>Megan</td><td>female</td><td>48000</td><td>40</td><td>1</td></tr>\n",
              "\t<tr><td>Neil </td><td>male  </td><td>65000</td><td>35</td><td>2</td></tr>\n",
              "</tbody>\n",
              "</table>\n"
            ],
            "text/markdown": "\nA tibble: 3 × 5\n\n| name &lt;chr&gt; | gender &lt;chr&gt; | salary &lt;dbl&gt; | age &lt;dbl&gt; | phone &lt;dbl&gt; |\n|---|---|---|---|---|\n| Cian  | male   | 60000 | 32 | 1 |\n| Megan | female | 48000 | 40 | 1 |\n| Neil  | male   | 65000 | 35 | 2 |\n\n",
            "text/latex": "A tibble: 3 × 5\n\\begin{tabular}{lllll}\n name & gender & salary & age & phone\\\\\n <chr> & <chr> & <dbl> & <dbl> & <dbl>\\\\\n\\hline\n\t Cian  & male   & 60000 & 32 & 1\\\\\n\t Megan & female & 48000 & 40 & 1\\\\\n\t Neil  & male   & 65000 & 35 & 2\\\\\n\\end{tabular}\n",
            "text/plain": [
              "  name  gender salary age phone\n",
              "1 Cian  male   60000  32  1    \n",
              "2 Megan female 48000  40  1    \n",
              "3 Neil  male   65000  35  2    "
            ]
          },
          "metadata": {}
        }
      ]
    },
    {
      "cell_type": "markdown",
      "source": [
        "As we understand using multiple OR operators is not a very efficient way to write the code, instead, we can use the `%in% `operator along with a vector. "
      ],
      "metadata": {
        "id": "uTnUreAB55xO"
      }
    },
    {
      "cell_type": "code",
      "source": [
        "emp %>%\n",
        "  filter(name %in% c(\"Cian\", \"Neil\", \"Megan\"))"
      ],
      "metadata": {
        "colab": {
          "base_uri": "https://localhost:8080/",
          "height": 192
        },
        "id": "3nR4U5-NpOS1",
        "outputId": "58a9dc22-9630-498c-8527-5e4f34bd2da1"
      },
      "execution_count": 16,
      "outputs": [
        {
          "output_type": "display_data",
          "data": {
            "text/html": [
              "<table class=\"dataframe\">\n",
              "<caption>A tibble: 3 × 5</caption>\n",
              "<thead>\n",
              "\t<tr><th scope=col>name</th><th scope=col>gender</th><th scope=col>salary</th><th scope=col>age</th><th scope=col>phone</th></tr>\n",
              "\t<tr><th scope=col>&lt;chr&gt;</th><th scope=col>&lt;chr&gt;</th><th scope=col>&lt;dbl&gt;</th><th scope=col>&lt;dbl&gt;</th><th scope=col>&lt;dbl&gt;</th></tr>\n",
              "</thead>\n",
              "<tbody>\n",
              "\t<tr><td>Cian </td><td>male  </td><td>60000</td><td>32</td><td>1</td></tr>\n",
              "\t<tr><td>Megan</td><td>female</td><td>48000</td><td>40</td><td>1</td></tr>\n",
              "\t<tr><td>Neil </td><td>male  </td><td>65000</td><td>35</td><td>2</td></tr>\n",
              "</tbody>\n",
              "</table>\n"
            ],
            "text/markdown": "\nA tibble: 3 × 5\n\n| name &lt;chr&gt; | gender &lt;chr&gt; | salary &lt;dbl&gt; | age &lt;dbl&gt; | phone &lt;dbl&gt; |\n|---|---|---|---|---|\n| Cian  | male   | 60000 | 32 | 1 |\n| Megan | female | 48000 | 40 | 1 |\n| Neil  | male   | 65000 | 35 | 2 |\n\n",
            "text/latex": "A tibble: 3 × 5\n\\begin{tabular}{lllll}\n name & gender & salary & age & phone\\\\\n <chr> & <chr> & <dbl> & <dbl> & <dbl>\\\\\n\\hline\n\t Cian  & male   & 60000 & 32 & 1\\\\\n\t Megan & female & 48000 & 40 & 1\\\\\n\t Neil  & male   & 65000 & 35 & 2\\\\\n\\end{tabular}\n",
            "text/plain": [
              "  name  gender salary age phone\n",
              "1 Cian  male   60000  32  1    \n",
              "2 Megan female 48000  40  1    \n",
              "3 Neil  male   65000  35  2    "
            ]
          },
          "metadata": {}
        }
      ]
    },
    {
      "cell_type": "markdown",
      "source": [
        "### **FILTER WITH GROUP BY**"
      ],
      "metadata": {
        "id": "izYWpRXyqgt-"
      }
    },
    {
      "cell_type": "markdown",
      "source": [
        "The **group_by()** is a function that actually groups the data based on the given column, e.g. let's say we like to perform some operation based on gender then first we need to use **group_by()** on the gender column, and then we can perform the respective operation. We can think when we use the **group_by()** on the gender column the system creates two different data frame for the gender and wait for the next round of operation. \n",
        "\n",
        "Let's say we like the average salary for each other gender then we will execute the following task on the data frame."
      ],
      "metadata": {
        "id": "R63MGKpR6SGq"
      }
    },
    {
      "cell_type": "code",
      "source": [
        "emp"
      ],
      "metadata": {
        "colab": {
          "base_uri": "https://localhost:8080/",
          "height": 286
        },
        "id": "ZbTaZ9ad9TRt",
        "outputId": "dc81391f-77d4-442b-e7cf-381b9e587dd0"
      },
      "execution_count": 17,
      "outputs": [
        {
          "output_type": "display_data",
          "data": {
            "text/html": [
              "<table class=\"dataframe\">\n",
              "<caption>A tibble: 6 × 5</caption>\n",
              "<thead>\n",
              "\t<tr><th scope=col>name</th><th scope=col>gender</th><th scope=col>salary</th><th scope=col>age</th><th scope=col>phone</th></tr>\n",
              "\t<tr><th scope=col>&lt;chr&gt;</th><th scope=col>&lt;chr&gt;</th><th scope=col>&lt;dbl&gt;</th><th scope=col>&lt;dbl&gt;</th><th scope=col>&lt;dbl&gt;</th></tr>\n",
              "</thead>\n",
              "<tbody>\n",
              "\t<tr><td>Cian </td><td>male  </td><td>60000</td><td>32</td><td>1</td></tr>\n",
              "\t<tr><td>Donal</td><td>male  </td><td>63500</td><td>38</td><td>2</td></tr>\n",
              "\t<tr><td>Megan</td><td>female</td><td>48000</td><td>40</td><td>1</td></tr>\n",
              "\t<tr><td>Mari </td><td>female</td><td>55000</td><td>47</td><td>2</td></tr>\n",
              "\t<tr><td>Neil </td><td>male  </td><td>65000</td><td>35</td><td>2</td></tr>\n",
              "\t<tr><td>Kate </td><td>female</td><td>57000</td><td>30</td><td>2</td></tr>\n",
              "</tbody>\n",
              "</table>\n"
            ],
            "text/markdown": "\nA tibble: 6 × 5\n\n| name &lt;chr&gt; | gender &lt;chr&gt; | salary &lt;dbl&gt; | age &lt;dbl&gt; | phone &lt;dbl&gt; |\n|---|---|---|---|---|\n| Cian  | male   | 60000 | 32 | 1 |\n| Donal | male   | 63500 | 38 | 2 |\n| Megan | female | 48000 | 40 | 1 |\n| Mari  | female | 55000 | 47 | 2 |\n| Neil  | male   | 65000 | 35 | 2 |\n| Kate  | female | 57000 | 30 | 2 |\n\n",
            "text/latex": "A tibble: 6 × 5\n\\begin{tabular}{lllll}\n name & gender & salary & age & phone\\\\\n <chr> & <chr> & <dbl> & <dbl> & <dbl>\\\\\n\\hline\n\t Cian  & male   & 60000 & 32 & 1\\\\\n\t Donal & male   & 63500 & 38 & 2\\\\\n\t Megan & female & 48000 & 40 & 1\\\\\n\t Mari  & female & 55000 & 47 & 2\\\\\n\t Neil  & male   & 65000 & 35 & 2\\\\\n\t Kate  & female & 57000 & 30 & 2\\\\\n\\end{tabular}\n",
            "text/plain": [
              "  name  gender salary age phone\n",
              "1 Cian  male   60000  32  1    \n",
              "2 Donal male   63500  38  2    \n",
              "3 Megan female 48000  40  1    \n",
              "4 Mari  female 55000  47  2    \n",
              "5 Neil  male   65000  35  2    \n",
              "6 Kate  female 57000  30  2    "
            ]
          },
          "metadata": {}
        }
      ]
    },
    {
      "cell_type": "code",
      "source": [
        "emp %>% group_by(gender) %>% \n",
        "  summarise(mean_salary=mean(salary))"
      ],
      "metadata": {
        "colab": {
          "base_uri": "https://localhost:8080/",
          "height": 161
        },
        "id": "ceFCH7Te1Acv",
        "outputId": "a34cee3a-424c-46b4-b48d-64010c50b134"
      },
      "execution_count": 18,
      "outputs": [
        {
          "output_type": "display_data",
          "data": {
            "text/html": [
              "<table class=\"dataframe\">\n",
              "<caption>A tibble: 2 × 2</caption>\n",
              "<thead>\n",
              "\t<tr><th scope=col>gender</th><th scope=col>mean_salary</th></tr>\n",
              "\t<tr><th scope=col>&lt;chr&gt;</th><th scope=col>&lt;dbl&gt;</th></tr>\n",
              "</thead>\n",
              "<tbody>\n",
              "\t<tr><td>female</td><td>53333.33</td></tr>\n",
              "\t<tr><td>male  </td><td>62833.33</td></tr>\n",
              "</tbody>\n",
              "</table>\n"
            ],
            "text/markdown": "\nA tibble: 2 × 2\n\n| gender &lt;chr&gt; | mean_salary &lt;dbl&gt; |\n|---|---|\n| female | 53333.33 |\n| male   | 62833.33 |\n\n",
            "text/latex": "A tibble: 2 × 2\n\\begin{tabular}{ll}\n gender & mean\\_salary\\\\\n <chr> & <dbl>\\\\\n\\hline\n\t female & 53333.33\\\\\n\t male   & 62833.33\\\\\n\\end{tabular}\n",
            "text/plain": [
              "  gender mean_salary\n",
              "1 female 53333.33   \n",
              "2 male   62833.33   "
            ]
          },
          "metadata": {}
        }
      ]
    },
    {
      "cell_type": "markdown",
      "source": [
        "And then we like to see the records for which the salary is less than the mean salary but we like to see it for both genders separately. \n",
        "\n",
        "In that case, we will use **group_by()** and **filter()** together. "
      ],
      "metadata": {
        "id": "uc3D-7D9_9ji"
      }
    },
    {
      "cell_type": "code",
      "source": [
        "emp %>%\n",
        "  group_by(gender) %>%\n",
        "  filter(salary  <= mean(salary))"
      ],
      "metadata": {
        "colab": {
          "base_uri": "https://localhost:8080/",
          "height": 161
        },
        "id": "HZOZdtuRps1w",
        "outputId": "7ece05e8-aa04-4755-ccb8-761718ec4bbc"
      },
      "execution_count": 19,
      "outputs": [
        {
          "output_type": "display_data",
          "data": {
            "text/html": [
              "<table class=\"dataframe\">\n",
              "<caption>A grouped_df: 2 × 5</caption>\n",
              "<thead>\n",
              "\t<tr><th scope=col>name</th><th scope=col>gender</th><th scope=col>salary</th><th scope=col>age</th><th scope=col>phone</th></tr>\n",
              "\t<tr><th scope=col>&lt;chr&gt;</th><th scope=col>&lt;chr&gt;</th><th scope=col>&lt;dbl&gt;</th><th scope=col>&lt;dbl&gt;</th><th scope=col>&lt;dbl&gt;</th></tr>\n",
              "</thead>\n",
              "<tbody>\n",
              "\t<tr><td>Cian </td><td>male  </td><td>60000</td><td>32</td><td>1</td></tr>\n",
              "\t<tr><td>Megan</td><td>female</td><td>48000</td><td>40</td><td>1</td></tr>\n",
              "</tbody>\n",
              "</table>\n"
            ],
            "text/markdown": "\nA grouped_df: 2 × 5\n\n| name &lt;chr&gt; | gender &lt;chr&gt; | salary &lt;dbl&gt; | age &lt;dbl&gt; | phone &lt;dbl&gt; |\n|---|---|---|---|---|\n| Cian  | male   | 60000 | 32 | 1 |\n| Megan | female | 48000 | 40 | 1 |\n\n",
            "text/latex": "A grouped\\_df: 2 × 5\n\\begin{tabular}{lllll}\n name & gender & salary & age & phone\\\\\n <chr> & <chr> & <dbl> & <dbl> & <dbl>\\\\\n\\hline\n\t Cian  & male   & 60000 & 32 & 1\\\\\n\t Megan & female & 48000 & 40 & 1\\\\\n\\end{tabular}\n",
            "text/plain": [
              "  name  gender salary age phone\n",
              "1 Cian  male   60000  32  1    \n",
              "2 Megan female 48000  40  1    "
            ]
          },
          "metadata": {}
        }
      ]
    },
    {
      "cell_type": "markdown",
      "source": [
        "### **MUTATE**\n"
      ],
      "metadata": {
        "id": "8u3j41UD2F_B"
      }
    },
    {
      "cell_type": "markdown",
      "source": [
        "Until now, we have arranged the data or selected different columns and we have also seen how to filter the records. But we do not make any changes to the actual dataset. \n",
        "\n",
        "And with the **mutate()** function we can actually change the dataset.\n",
        "\n",
        "Let's say we like to include the information about the department of each of the employees then we can do so by using **mutate()** and a new column."
      ],
      "metadata": {
        "id": "QI66YO8tAjk-"
      }
    },
    {
      "cell_type": "code",
      "source": [
        "emp <- emp %>%\n",
        "  mutate(dept = c(\"IT\", \"IT\", \"Marketing\", \"Finance\", \"Finance\", \"Admin\"))"
      ],
      "metadata": {
        "id": "9MlBqQej2LhH"
      },
      "execution_count": 20,
      "outputs": []
    },
    {
      "cell_type": "markdown",
      "source": [
        "We can also create a new column based on the existing column(s). Let's say we want to have a new column called `new_sal` which is 15% higher than the existing salary."
      ],
      "metadata": {
        "id": "0snSYxcOQui4"
      }
    },
    {
      "cell_type": "code",
      "source": [
        "emp <- emp %>%\n",
        "  mutate(new_sal = salary*1.15)"
      ],
      "metadata": {
        "id": "tOxFd_Zg2zWJ"
      },
      "execution_count": 21,
      "outputs": []
    },
    {
      "cell_type": "markdown",
      "source": [
        "By default, the new column will be added at the end of the data frame, but we also define the location of the new column with the `.after` and `.before `of options.\n",
        "\n",
        "Let's say we want to create a new column that shows who gets the higher (>60000) salary and we want to have that column after the salary column."
      ],
      "metadata": {
        "id": "3MgT90tHdJK5"
      }
    },
    {
      "cell_type": "code",
      "source": [
        "emp <- emp %>%\n",
        "  mutate(high_sal = salary > 60000, .after = salary)"
      ],
      "metadata": {
        "id": "mDMlDJ7g3piN"
      },
      "execution_count": 22,
      "outputs": []
    },
    {
      "cell_type": "code",
      "source": [
        "emp"
      ],
      "metadata": {
        "colab": {
          "base_uri": "https://localhost:8080/",
          "height": 286
        },
        "id": "XZIkzMzzdGae",
        "outputId": "1e428511-938a-4189-d2f6-eb834c5eae64"
      },
      "execution_count": 23,
      "outputs": [
        {
          "output_type": "display_data",
          "data": {
            "text/html": [
              "<table class=\"dataframe\">\n",
              "<caption>A tibble: 6 × 8</caption>\n",
              "<thead>\n",
              "\t<tr><th scope=col>name</th><th scope=col>gender</th><th scope=col>salary</th><th scope=col>high_sal</th><th scope=col>age</th><th scope=col>phone</th><th scope=col>dept</th><th scope=col>new_sal</th></tr>\n",
              "\t<tr><th scope=col>&lt;chr&gt;</th><th scope=col>&lt;chr&gt;</th><th scope=col>&lt;dbl&gt;</th><th scope=col>&lt;lgl&gt;</th><th scope=col>&lt;dbl&gt;</th><th scope=col>&lt;dbl&gt;</th><th scope=col>&lt;chr&gt;</th><th scope=col>&lt;dbl&gt;</th></tr>\n",
              "</thead>\n",
              "<tbody>\n",
              "\t<tr><td>Cian </td><td>male  </td><td>60000</td><td>FALSE</td><td>32</td><td>1</td><td>IT       </td><td>69000</td></tr>\n",
              "\t<tr><td>Donal</td><td>male  </td><td>63500</td><td> TRUE</td><td>38</td><td>2</td><td>IT       </td><td>73025</td></tr>\n",
              "\t<tr><td>Megan</td><td>female</td><td>48000</td><td>FALSE</td><td>40</td><td>1</td><td>Marketing</td><td>55200</td></tr>\n",
              "\t<tr><td>Mari </td><td>female</td><td>55000</td><td>FALSE</td><td>47</td><td>2</td><td>Finance  </td><td>63250</td></tr>\n",
              "\t<tr><td>Neil </td><td>male  </td><td>65000</td><td> TRUE</td><td>35</td><td>2</td><td>Finance  </td><td>74750</td></tr>\n",
              "\t<tr><td>Kate </td><td>female</td><td>57000</td><td>FALSE</td><td>30</td><td>2</td><td>Admin    </td><td>65550</td></tr>\n",
              "</tbody>\n",
              "</table>\n"
            ],
            "text/markdown": "\nA tibble: 6 × 8\n\n| name &lt;chr&gt; | gender &lt;chr&gt; | salary &lt;dbl&gt; | high_sal &lt;lgl&gt; | age &lt;dbl&gt; | phone &lt;dbl&gt; | dept &lt;chr&gt; | new_sal &lt;dbl&gt; |\n|---|---|---|---|---|---|---|---|\n| Cian  | male   | 60000 | FALSE | 32 | 1 | IT        | 69000 |\n| Donal | male   | 63500 |  TRUE | 38 | 2 | IT        | 73025 |\n| Megan | female | 48000 | FALSE | 40 | 1 | Marketing | 55200 |\n| Mari  | female | 55000 | FALSE | 47 | 2 | Finance   | 63250 |\n| Neil  | male   | 65000 |  TRUE | 35 | 2 | Finance   | 74750 |\n| Kate  | female | 57000 | FALSE | 30 | 2 | Admin     | 65550 |\n\n",
            "text/latex": "A tibble: 6 × 8\n\\begin{tabular}{llllllll}\n name & gender & salary & high\\_sal & age & phone & dept & new\\_sal\\\\\n <chr> & <chr> & <dbl> & <lgl> & <dbl> & <dbl> & <chr> & <dbl>\\\\\n\\hline\n\t Cian  & male   & 60000 & FALSE & 32 & 1 & IT        & 69000\\\\\n\t Donal & male   & 63500 &  TRUE & 38 & 2 & IT        & 73025\\\\\n\t Megan & female & 48000 & FALSE & 40 & 1 & Marketing & 55200\\\\\n\t Mari  & female & 55000 & FALSE & 47 & 2 & Finance   & 63250\\\\\n\t Neil  & male   & 65000 &  TRUE & 35 & 2 & Finance   & 74750\\\\\n\t Kate  & female & 57000 & FALSE & 30 & 2 & Admin     & 65550\\\\\n\\end{tabular}\n",
            "text/plain": [
              "  name  gender salary high_sal age phone dept      new_sal\n",
              "1 Cian  male   60000  FALSE    32  1     IT        69000  \n",
              "2 Donal male   63500   TRUE    38  2     IT        73025  \n",
              "3 Megan female 48000  FALSE    40  1     Marketing 55200  \n",
              "4 Mari  female 55000  FALSE    47  2     Finance   63250  \n",
              "5 Neil  male   65000   TRUE    35  2     Finance   74750  \n",
              "6 Kate  female 57000  FALSE    30  2     Admin     65550  "
            ]
          },
          "metadata": {}
        }
      ]
    },
    {
      "cell_type": "markdown",
      "source": [
        "We can even create a new column based on the existing column implying some conditions, e.g. we want to create a column called `mngr` and it will say 'Y' where the high_salary is TRUE else it will say 'N'."
      ],
      "metadata": {
        "id": "L7V-7OHOc6DN"
      }
    },
    {
      "cell_type": "code",
      "source": [
        "emp %>%\n",
        "  mutate( mngr= if_else(.$high_sal == TRUE, 'Y', 'N'))"
      ],
      "metadata": {
        "id": "OTle0xClJ6CL",
        "colab": {
          "base_uri": "https://localhost:8080/",
          "height": 286
        },
        "outputId": "3bbb9976-8301-4829-a0da-8f09e7787a1a"
      },
      "execution_count": 24,
      "outputs": [
        {
          "output_type": "display_data",
          "data": {
            "text/html": [
              "<table class=\"dataframe\">\n",
              "<caption>A tibble: 6 × 9</caption>\n",
              "<thead>\n",
              "\t<tr><th scope=col>name</th><th scope=col>gender</th><th scope=col>salary</th><th scope=col>high_sal</th><th scope=col>age</th><th scope=col>phone</th><th scope=col>dept</th><th scope=col>new_sal</th><th scope=col>mngr</th></tr>\n",
              "\t<tr><th scope=col>&lt;chr&gt;</th><th scope=col>&lt;chr&gt;</th><th scope=col>&lt;dbl&gt;</th><th scope=col>&lt;lgl&gt;</th><th scope=col>&lt;dbl&gt;</th><th scope=col>&lt;dbl&gt;</th><th scope=col>&lt;chr&gt;</th><th scope=col>&lt;dbl&gt;</th><th scope=col>&lt;chr&gt;</th></tr>\n",
              "</thead>\n",
              "<tbody>\n",
              "\t<tr><td>Cian </td><td>male  </td><td>60000</td><td>FALSE</td><td>32</td><td>1</td><td>IT       </td><td>69000</td><td>N</td></tr>\n",
              "\t<tr><td>Donal</td><td>male  </td><td>63500</td><td> TRUE</td><td>38</td><td>2</td><td>IT       </td><td>73025</td><td>Y</td></tr>\n",
              "\t<tr><td>Megan</td><td>female</td><td>48000</td><td>FALSE</td><td>40</td><td>1</td><td>Marketing</td><td>55200</td><td>N</td></tr>\n",
              "\t<tr><td>Mari </td><td>female</td><td>55000</td><td>FALSE</td><td>47</td><td>2</td><td>Finance  </td><td>63250</td><td>N</td></tr>\n",
              "\t<tr><td>Neil </td><td>male  </td><td>65000</td><td> TRUE</td><td>35</td><td>2</td><td>Finance  </td><td>74750</td><td>Y</td></tr>\n",
              "\t<tr><td>Kate </td><td>female</td><td>57000</td><td>FALSE</td><td>30</td><td>2</td><td>Admin    </td><td>65550</td><td>N</td></tr>\n",
              "</tbody>\n",
              "</table>\n"
            ],
            "text/markdown": "\nA tibble: 6 × 9\n\n| name &lt;chr&gt; | gender &lt;chr&gt; | salary &lt;dbl&gt; | high_sal &lt;lgl&gt; | age &lt;dbl&gt; | phone &lt;dbl&gt; | dept &lt;chr&gt; | new_sal &lt;dbl&gt; | mngr &lt;chr&gt; |\n|---|---|---|---|---|---|---|---|---|\n| Cian  | male   | 60000 | FALSE | 32 | 1 | IT        | 69000 | N |\n| Donal | male   | 63500 |  TRUE | 38 | 2 | IT        | 73025 | Y |\n| Megan | female | 48000 | FALSE | 40 | 1 | Marketing | 55200 | N |\n| Mari  | female | 55000 | FALSE | 47 | 2 | Finance   | 63250 | N |\n| Neil  | male   | 65000 |  TRUE | 35 | 2 | Finance   | 74750 | Y |\n| Kate  | female | 57000 | FALSE | 30 | 2 | Admin     | 65550 | N |\n\n",
            "text/latex": "A tibble: 6 × 9\n\\begin{tabular}{lllllllll}\n name & gender & salary & high\\_sal & age & phone & dept & new\\_sal & mngr\\\\\n <chr> & <chr> & <dbl> & <lgl> & <dbl> & <dbl> & <chr> & <dbl> & <chr>\\\\\n\\hline\n\t Cian  & male   & 60000 & FALSE & 32 & 1 & IT        & 69000 & N\\\\\n\t Donal & male   & 63500 &  TRUE & 38 & 2 & IT        & 73025 & Y\\\\\n\t Megan & female & 48000 & FALSE & 40 & 1 & Marketing & 55200 & N\\\\\n\t Mari  & female & 55000 & FALSE & 47 & 2 & Finance   & 63250 & N\\\\\n\t Neil  & male   & 65000 &  TRUE & 35 & 2 & Finance   & 74750 & Y\\\\\n\t Kate  & female & 57000 & FALSE & 30 & 2 & Admin     & 65550 & N\\\\\n\\end{tabular}\n",
            "text/plain": [
              "  name  gender salary high_sal age phone dept      new_sal mngr\n",
              "1 Cian  male   60000  FALSE    32  1     IT        69000   N   \n",
              "2 Donal male   63500   TRUE    38  2     IT        73025   Y   \n",
              "3 Megan female 48000  FALSE    40  1     Marketing 55200   N   \n",
              "4 Mari  female 55000  FALSE    47  2     Finance   63250   N   \n",
              "5 Neil  male   65000   TRUE    35  2     Finance   74750   Y   \n",
              "6 Kate  female 57000  FALSE    30  2     Admin     65550   N   "
            ]
          },
          "metadata": {}
        }
      ]
    },
    {
      "cell_type": "markdown",
      "source": [
        "###  **MUTATE WITH GROUP**"
      ],
      "metadata": {
        "id": "U9z39T0a38wD"
      }
    },
    {
      "cell_type": "markdown",
      "source": [
        "Although this is not very popular, we can use mutate() function with the group_by() as well. \n",
        "\n",
        "For example, we want to have a column that shows people who earn less than the average salary but the average should be calculated based on the gender of the employee."
      ],
      "metadata": {
        "id": "u1OfhoVHhLxN"
      }
    },
    {
      "cell_type": "code",
      "source": [
        "emp %>% group_by(gender) %>% \n",
        "  summarise(mean_salary=mean(salary))"
      ],
      "metadata": {
        "colab": {
          "base_uri": "https://localhost:8080/",
          "height": 161
        },
        "id": "7VUTeZpz4qyt",
        "outputId": "f36c69a3-2565-46f7-e780-9b294731a688"
      },
      "execution_count": 25,
      "outputs": [
        {
          "output_type": "display_data",
          "data": {
            "text/html": [
              "<table class=\"dataframe\">\n",
              "<caption>A tibble: 2 × 2</caption>\n",
              "<thead>\n",
              "\t<tr><th scope=col>gender</th><th scope=col>mean_salary</th></tr>\n",
              "\t<tr><th scope=col>&lt;chr&gt;</th><th scope=col>&lt;dbl&gt;</th></tr>\n",
              "</thead>\n",
              "<tbody>\n",
              "\t<tr><td>female</td><td>53333.33</td></tr>\n",
              "\t<tr><td>male  </td><td>62833.33</td></tr>\n",
              "</tbody>\n",
              "</table>\n"
            ],
            "text/markdown": "\nA tibble: 2 × 2\n\n| gender &lt;chr&gt; | mean_salary &lt;dbl&gt; |\n|---|---|\n| female | 53333.33 |\n| male   | 62833.33 |\n\n",
            "text/latex": "A tibble: 2 × 2\n\\begin{tabular}{ll}\n gender & mean\\_salary\\\\\n <chr> & <dbl>\\\\\n\\hline\n\t female & 53333.33\\\\\n\t male   & 62833.33\\\\\n\\end{tabular}\n",
            "text/plain": [
              "  gender mean_salary\n",
              "1 female 53333.33   \n",
              "2 male   62833.33   "
            ]
          },
          "metadata": {}
        }
      ]
    },
    {
      "cell_type": "code",
      "source": [
        " df <- emp %>%\n",
        "  group_by(gender) %>%\n",
        "  mutate(high_sal_by_gender = salary > mean(salary))"
      ],
      "metadata": {
        "id": "6_VUQ3Z94B19"
      },
      "execution_count": 26,
      "outputs": []
    },
    {
      "cell_type": "code",
      "source": [
        "df"
      ],
      "metadata": {
        "colab": {
          "base_uri": "https://localhost:8080/",
          "height": 286
        },
        "id": "MsOPGKAwoqWP",
        "outputId": "6cb6f915-bf0b-4827-b51c-b555574d11e1"
      },
      "execution_count": 27,
      "outputs": [
        {
          "output_type": "display_data",
          "data": {
            "text/html": [
              "<table class=\"dataframe\">\n",
              "<caption>A grouped_df: 6 × 9</caption>\n",
              "<thead>\n",
              "\t<tr><th scope=col>name</th><th scope=col>gender</th><th scope=col>salary</th><th scope=col>high_sal</th><th scope=col>age</th><th scope=col>phone</th><th scope=col>dept</th><th scope=col>new_sal</th><th scope=col>high_sal_by_gender</th></tr>\n",
              "\t<tr><th scope=col>&lt;chr&gt;</th><th scope=col>&lt;chr&gt;</th><th scope=col>&lt;dbl&gt;</th><th scope=col>&lt;lgl&gt;</th><th scope=col>&lt;dbl&gt;</th><th scope=col>&lt;dbl&gt;</th><th scope=col>&lt;chr&gt;</th><th scope=col>&lt;dbl&gt;</th><th scope=col>&lt;lgl&gt;</th></tr>\n",
              "</thead>\n",
              "<tbody>\n",
              "\t<tr><td>Cian </td><td>male  </td><td>60000</td><td>FALSE</td><td>32</td><td>1</td><td>IT       </td><td>69000</td><td>FALSE</td></tr>\n",
              "\t<tr><td>Donal</td><td>male  </td><td>63500</td><td> TRUE</td><td>38</td><td>2</td><td>IT       </td><td>73025</td><td> TRUE</td></tr>\n",
              "\t<tr><td>Megan</td><td>female</td><td>48000</td><td>FALSE</td><td>40</td><td>1</td><td>Marketing</td><td>55200</td><td>FALSE</td></tr>\n",
              "\t<tr><td>Mari </td><td>female</td><td>55000</td><td>FALSE</td><td>47</td><td>2</td><td>Finance  </td><td>63250</td><td> TRUE</td></tr>\n",
              "\t<tr><td>Neil </td><td>male  </td><td>65000</td><td> TRUE</td><td>35</td><td>2</td><td>Finance  </td><td>74750</td><td> TRUE</td></tr>\n",
              "\t<tr><td>Kate </td><td>female</td><td>57000</td><td>FALSE</td><td>30</td><td>2</td><td>Admin    </td><td>65550</td><td> TRUE</td></tr>\n",
              "</tbody>\n",
              "</table>\n"
            ],
            "text/markdown": "\nA grouped_df: 6 × 9\n\n| name &lt;chr&gt; | gender &lt;chr&gt; | salary &lt;dbl&gt; | high_sal &lt;lgl&gt; | age &lt;dbl&gt; | phone &lt;dbl&gt; | dept &lt;chr&gt; | new_sal &lt;dbl&gt; | high_sal_by_gender &lt;lgl&gt; |\n|---|---|---|---|---|---|---|---|---|\n| Cian  | male   | 60000 | FALSE | 32 | 1 | IT        | 69000 | FALSE |\n| Donal | male   | 63500 |  TRUE | 38 | 2 | IT        | 73025 |  TRUE |\n| Megan | female | 48000 | FALSE | 40 | 1 | Marketing | 55200 | FALSE |\n| Mari  | female | 55000 | FALSE | 47 | 2 | Finance   | 63250 |  TRUE |\n| Neil  | male   | 65000 |  TRUE | 35 | 2 | Finance   | 74750 |  TRUE |\n| Kate  | female | 57000 | FALSE | 30 | 2 | Admin     | 65550 |  TRUE |\n\n",
            "text/latex": "A grouped\\_df: 6 × 9\n\\begin{tabular}{lllllllll}\n name & gender & salary & high\\_sal & age & phone & dept & new\\_sal & high\\_sal\\_by\\_gender\\\\\n <chr> & <chr> & <dbl> & <lgl> & <dbl> & <dbl> & <chr> & <dbl> & <lgl>\\\\\n\\hline\n\t Cian  & male   & 60000 & FALSE & 32 & 1 & IT        & 69000 & FALSE\\\\\n\t Donal & male   & 63500 &  TRUE & 38 & 2 & IT        & 73025 &  TRUE\\\\\n\t Megan & female & 48000 & FALSE & 40 & 1 & Marketing & 55200 & FALSE\\\\\n\t Mari  & female & 55000 & FALSE & 47 & 2 & Finance   & 63250 &  TRUE\\\\\n\t Neil  & male   & 65000 &  TRUE & 35 & 2 & Finance   & 74750 &  TRUE\\\\\n\t Kate  & female & 57000 & FALSE & 30 & 2 & Admin     & 65550 &  TRUE\\\\\n\\end{tabular}\n",
            "text/plain": [
              "  name  gender salary high_sal age phone dept      new_sal high_sal_by_gender\n",
              "1 Cian  male   60000  FALSE    32  1     IT        69000   FALSE             \n",
              "2 Donal male   63500   TRUE    38  2     IT        73025    TRUE             \n",
              "3 Megan female 48000  FALSE    40  1     Marketing 55200   FALSE             \n",
              "4 Mari  female 55000  FALSE    47  2     Finance   63250    TRUE             \n",
              "5 Neil  male   65000   TRUE    35  2     Finance   74750    TRUE             \n",
              "6 Kate  female 57000  FALSE    30  2     Admin     65550    TRUE             "
            ]
          },
          "metadata": {}
        }
      ]
    },
    {
      "cell_type": "markdown",
      "source": [
        "### **SUMMARISE**"
      ],
      "metadata": {
        "id": "K8HjTW5H5H1A"
      }
    },
    {
      "cell_type": "markdown",
      "source": [
        "Creating a summary of the data is an essential part of data exploration. And `summary()` function of dplyr helps to perform those tasks. \n",
        "\n",
        "One such example will be what is the mean salary of the employees? And `summary()` can help us to get the answer."
      ],
      "metadata": {
        "id": "oAYJl3EaBokc"
      }
    },
    {
      "cell_type": "code",
      "source": [
        "emp %>%\n",
        "  summarise(mean_salary = mean(salary))"
      ],
      "metadata": {
        "colab": {
          "base_uri": "https://localhost:8080/",
          "height": 129
        },
        "id": "crXWd_715SIb",
        "outputId": "e380989d-9bdc-4a7d-867f-e78b19725a4c"
      },
      "execution_count": 28,
      "outputs": [
        {
          "output_type": "display_data",
          "data": {
            "text/html": [
              "<table class=\"dataframe\">\n",
              "<caption>A tibble: 1 × 1</caption>\n",
              "<thead>\n",
              "\t<tr><th scope=col>mean_salary</th></tr>\n",
              "\t<tr><th scope=col>&lt;dbl&gt;</th></tr>\n",
              "</thead>\n",
              "<tbody>\n",
              "\t<tr><td>58083.33</td></tr>\n",
              "</tbody>\n",
              "</table>\n"
            ],
            "text/markdown": "\nA tibble: 1 × 1\n\n| mean_salary &lt;dbl&gt; |\n|---|\n| 58083.33 |\n\n",
            "text/latex": "A tibble: 1 × 1\n\\begin{tabular}{l}\n mean\\_salary\\\\\n <dbl>\\\\\n\\hline\n\t 58083.33\\\\\n\\end{tabular}\n",
            "text/plain": [
              "  mean_salary\n",
              "1 58083.33   "
            ]
          },
          "metadata": {}
        }
      ]
    },
    {
      "cell_type": "markdown",
      "source": [
        "we can use all sorts of summary functions such as mean(), median(), min(), max() etc with the summary()"
      ],
      "metadata": {
        "id": "ypFtAyJFCkl3"
      }
    },
    {
      "cell_type": "code",
      "source": [
        "emp %>%\n",
        "  summarise(salary_mean = mean(salary),\n",
        "            salary_median = median(salary),\n",
        "            min_no_phone = min(phone),\n",
        "            max_no_phone = max(phone),\n",
        "            total_emp = n()\n",
        "            )"
      ],
      "metadata": {
        "colab": {
          "base_uri": "https://localhost:8080/",
          "height": 129
        },
        "id": "wgAIC7UG5ec5",
        "outputId": "a314174b-5b38-4d89-8e3f-d427c70b1981"
      },
      "execution_count": 29,
      "outputs": [
        {
          "output_type": "display_data",
          "data": {
            "text/html": [
              "<table class=\"dataframe\">\n",
              "<caption>A tibble: 1 × 5</caption>\n",
              "<thead>\n",
              "\t<tr><th scope=col>salary_mean</th><th scope=col>salary_median</th><th scope=col>min_no_phone</th><th scope=col>max_no_phone</th><th scope=col>total_emp</th></tr>\n",
              "\t<tr><th scope=col>&lt;dbl&gt;</th><th scope=col>&lt;dbl&gt;</th><th scope=col>&lt;dbl&gt;</th><th scope=col>&lt;dbl&gt;</th><th scope=col>&lt;int&gt;</th></tr>\n",
              "</thead>\n",
              "<tbody>\n",
              "\t<tr><td>58083.33</td><td>58500</td><td>1</td><td>2</td><td>6</td></tr>\n",
              "</tbody>\n",
              "</table>\n"
            ],
            "text/markdown": "\nA tibble: 1 × 5\n\n| salary_mean &lt;dbl&gt; | salary_median &lt;dbl&gt; | min_no_phone &lt;dbl&gt; | max_no_phone &lt;dbl&gt; | total_emp &lt;int&gt; |\n|---|---|---|---|---|\n| 58083.33 | 58500 | 1 | 2 | 6 |\n\n",
            "text/latex": "A tibble: 1 × 5\n\\begin{tabular}{lllll}\n salary\\_mean & salary\\_median & min\\_no\\_phone & max\\_no\\_phone & total\\_emp\\\\\n <dbl> & <dbl> & <dbl> & <dbl> & <int>\\\\\n\\hline\n\t 58083.33 & 58500 & 1 & 2 & 6\\\\\n\\end{tabular}\n",
            "text/plain": [
              "  salary_mean salary_median min_no_phone max_no_phone total_emp\n",
              "1 58083.33    58500         1            2            6        "
            ]
          },
          "metadata": {}
        }
      ]
    },
    {
      "cell_type": "markdown",
      "source": [
        "### **SUMMARISE WITH GROUP**"
      ],
      "metadata": {
        "id": "1RlR4q4S6HTs"
      }
    },
    {
      "cell_type": "markdown",
      "source": [
        "When we use `summarise()` without the `group_by()` then summarise works on the entire dataset. But if we like to summarise the data on some subset of the data then we need to use the `group_by()` function. \n",
        "\n",
        "Let's say, we are interested to see what is maximum salary, average salary, and the number of employers for each department then we need to `group_by()` the data on the department column and then we need to apply `summarise()`."
      ],
      "metadata": {
        "id": "nhTE7aAkEs5b"
      }
    },
    {
      "cell_type": "code",
      "source": [
        "emp %>%\n",
        "  group_by(dept) %>%\n",
        "  summarise(mean_sal_dept = mean(salary),\n",
        "            max_sal_dept = max(salary),\n",
        "            no_emp = n())"
      ],
      "metadata": {
        "colab": {
          "base_uri": "https://localhost:8080/",
          "height": 224
        },
        "id": "aQmdGZ9e6MCJ",
        "outputId": "79a93e84-b6d0-4573-d6bf-70fe780386a7"
      },
      "execution_count": 30,
      "outputs": [
        {
          "output_type": "display_data",
          "data": {
            "text/html": [
              "<table class=\"dataframe\">\n",
              "<caption>A tibble: 4 × 4</caption>\n",
              "<thead>\n",
              "\t<tr><th scope=col>dept</th><th scope=col>mean_sal_dept</th><th scope=col>max_sal_dept</th><th scope=col>no_emp</th></tr>\n",
              "\t<tr><th scope=col>&lt;chr&gt;</th><th scope=col>&lt;dbl&gt;</th><th scope=col>&lt;dbl&gt;</th><th scope=col>&lt;int&gt;</th></tr>\n",
              "</thead>\n",
              "<tbody>\n",
              "\t<tr><td>Admin    </td><td>57000</td><td>57000</td><td>1</td></tr>\n",
              "\t<tr><td>Finance  </td><td>60000</td><td>65000</td><td>2</td></tr>\n",
              "\t<tr><td>IT       </td><td>61750</td><td>63500</td><td>2</td></tr>\n",
              "\t<tr><td>Marketing</td><td>48000</td><td>48000</td><td>1</td></tr>\n",
              "</tbody>\n",
              "</table>\n"
            ],
            "text/markdown": "\nA tibble: 4 × 4\n\n| dept &lt;chr&gt; | mean_sal_dept &lt;dbl&gt; | max_sal_dept &lt;dbl&gt; | no_emp &lt;int&gt; |\n|---|---|---|---|\n| Admin     | 57000 | 57000 | 1 |\n| Finance   | 60000 | 65000 | 2 |\n| IT        | 61750 | 63500 | 2 |\n| Marketing | 48000 | 48000 | 1 |\n\n",
            "text/latex": "A tibble: 4 × 4\n\\begin{tabular}{llll}\n dept & mean\\_sal\\_dept & max\\_sal\\_dept & no\\_emp\\\\\n <chr> & <dbl> & <dbl> & <int>\\\\\n\\hline\n\t Admin     & 57000 & 57000 & 1\\\\\n\t Finance   & 60000 & 65000 & 2\\\\\n\t IT        & 61750 & 63500 & 2\\\\\n\t Marketing & 48000 & 48000 & 1\\\\\n\\end{tabular}\n",
            "text/plain": [
              "  dept      mean_sal_dept max_sal_dept no_emp\n",
              "1 Admin     57000         57000        1     \n",
              "2 Finance   60000         65000        2     \n",
              "3 IT        61750         63500        2     \n",
              "4 Marketing 48000         48000        1     "
            ]
          },
          "metadata": {}
        }
      ]
    },
    {
      "cell_type": "markdown",
      "source": [
        "The below code is an example of how all the different functions of dplyr is used together to perform a certain task."
      ],
      "metadata": {
        "id": "jw_-bc75OAA5"
      }
    },
    {
      "cell_type": "code",
      "source": [
        "emp %>%\n",
        "  select(-age) %>%\n",
        "  arrange(salary) %>%\n",
        "  filter(phone == 2) %>%\n",
        "  group_by(gender) %>%\n",
        "    summarise(mean_sal = mean(salary),\n",
        "              no_emp = n())"
      ],
      "metadata": {
        "colab": {
          "base_uri": "https://localhost:8080/",
          "height": 161
        },
        "id": "PhMt9Q9i8M0a",
        "outputId": "0801ac22-cf89-4f3a-e0a0-e4e553d52a2f"
      },
      "execution_count": 31,
      "outputs": [
        {
          "output_type": "display_data",
          "data": {
            "text/html": [
              "<table class=\"dataframe\">\n",
              "<caption>A tibble: 2 × 3</caption>\n",
              "<thead>\n",
              "\t<tr><th scope=col>gender</th><th scope=col>mean_sal</th><th scope=col>no_emp</th></tr>\n",
              "\t<tr><th scope=col>&lt;chr&gt;</th><th scope=col>&lt;dbl&gt;</th><th scope=col>&lt;int&gt;</th></tr>\n",
              "</thead>\n",
              "<tbody>\n",
              "\t<tr><td>female</td><td>56000</td><td>2</td></tr>\n",
              "\t<tr><td>male  </td><td>64250</td><td>2</td></tr>\n",
              "</tbody>\n",
              "</table>\n"
            ],
            "text/markdown": "\nA tibble: 2 × 3\n\n| gender &lt;chr&gt; | mean_sal &lt;dbl&gt; | no_emp &lt;int&gt; |\n|---|---|---|\n| female | 56000 | 2 |\n| male   | 64250 | 2 |\n\n",
            "text/latex": "A tibble: 2 × 3\n\\begin{tabular}{lll}\n gender & mean\\_sal & no\\_emp\\\\\n <chr> & <dbl> & <int>\\\\\n\\hline\n\t female & 56000 & 2\\\\\n\t male   & 64250 & 2\\\\\n\\end{tabular}\n",
            "text/plain": [
              "  gender mean_sal no_emp\n",
              "1 female 56000    2     \n",
              "2 male   64250    2     "
            ]
          },
          "metadata": {}
        }
      ]
    },
    {
      "cell_type": "markdown",
      "source": [
        "Here, we have discussed 5 functions of dplyr that are most commonly used by data champions. But there are other functions available in dplyr, you can check the following [link](https://dplyr.tidyverse.org/) for detail documentation. "
      ],
      "metadata": {
        "id": "gMSvyUVTOUNg"
      }
    }
  ]
}