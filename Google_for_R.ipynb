{
  "nbformat": 4,
  "nbformat_minor": 0,
  "metadata": {
    "colab": {
      "provenance": [],
      "collapsed_sections": []
    },
    "kernelspec": {
      "name": "python3",
      "display_name": "Python 3"
    },
    "language_info": {
      "name": "python"
    },
    "gpuClass": "standard"
  },
  "cells": [
    {
      "cell_type": "markdown",
      "source": [
        "# **How to use R in the Googgle Colab environment.**"
      ],
      "metadata": {
        "id": "9o0lrh4-BiUj"
      }
    },
    {
      "cell_type": "markdown",
      "source": [
        "## **Creating R runtime environment in Colab**\n",
        "\n",
        "We can open a R notebook directly in the Google colab. \n",
        "\n",
        "Steps:\n",
        "\n",
        "1. Open your favorite browser.\n",
        "2. Type https://colab.research.google.com/#create=true&language=r, or this short URL https://colab.to/r\n",
        "\n",
        "Remember when you open a notebook like this, Colab will create a note book inside a folder called **\"Colab Notebooks\"** and the default file name will be **Untitled0.ipynb**.\n",
        "\n",
        "Apparently, this notebook looks no different than a Python notebook. But when you to the “Runtime” settings, and select “Change runtime type”, you will see that the **Runtime type** is set to R that confirms that you are already in R runtime.\n",
        "\n",
        "Voila!! You are set to write the program in R now."
      ],
      "metadata": {
        "id": "dMHW85zSmAdB"
      }
    },
    {
      "cell_type": "markdown",
      "source": [
        " You can write following code to check current version of R."
      ],
      "metadata": {
        "id": "UtbTUIhLmJI8"
      }
    },
    {
      "cell_type": "code",
      "source": [
        "R.version.string"
      ],
      "metadata": {
        "id": "SHsolNURmWmi"
      },
      "execution_count": null,
      "outputs": []
    },
    {
      "cell_type": "markdown",
      "source": [
        "If you like to know what are the pacekges already installed in this enviornment, run the following command. "
      ],
      "metadata": {
        "id": "g-SVQpQA8u9T"
      }
    },
    {
      "cell_type": "code",
      "source": [
        "print(installed.packages())"
      ],
      "metadata": {
        "id": "ySJDsqhPmPYW"
      },
      "execution_count": null,
      "outputs": []
    },
    {
      "cell_type": "markdown",
      "source": [
        "And if you like to install a new package then use the following command."
      ],
      "metadata": {
        "id": "IJkSc34l9Bc0"
      }
    },
    {
      "cell_type": "code",
      "source": [
        "install.packages(\"<package name>\")"
      ],
      "metadata": {
        "id": "2e_YxlrC9Tya"
      },
      "execution_count": null,
      "outputs": []
    },
    {
      "cell_type": "markdown",
      "source": [
        "You can temporarily upload data in the 'content' folder but you cannot mount your Google drive in the R runtime environment.\n",
        "\n",
        "Alternatively, you can read the file from an external repository such as Github."
      ],
      "metadata": {
        "id": "g9ZR73ba_LIb"
      }
    },
    {
      "cell_type": "code",
      "source": [
        "library(\"tidyverse\")"
      ],
      "metadata": {
        "id": "UK9ogBlJ99Cs"
      },
      "execution_count": null,
      "outputs": []
    },
    {
      "cell_type": "code",
      "source": [
        "df <- read_csv(\"/content/sample_data/california_housing_train.csv\")"
      ],
      "metadata": {
        "colab": {
          "base_uri": "https://localhost:8080/"
        },
        "id": "rp10Fxpq9pC5",
        "outputId": "b90f7caf-0741-4414-ebe0-9331783294ad"
      },
      "execution_count": null,
      "outputs": [
        {
          "output_type": "stream",
          "name": "stderr",
          "text": [
            "\u001b[1mRows: \u001b[22m\u001b[34m17000\u001b[39m \u001b[1mColumns: \u001b[22m\u001b[34m9\u001b[39m\n",
            "\u001b[36m──\u001b[39m \u001b[1mColumn specification\u001b[22m \u001b[36m────────────────────────────────────────────────────────\u001b[39m\n",
            "\u001b[1mDelimiter:\u001b[22m \",\"\n",
            "\u001b[32mdbl\u001b[39m (9): longitude, latitude, housing_median_age, total_rooms, total_bedroom...\n",
            "\n",
            "\u001b[36mℹ\u001b[39m Use `spec()` to retrieve the full column specification for this data.\n",
            "\u001b[36mℹ\u001b[39m Specify the column types or set `show_col_types = FALSE` to quiet this message.\n"
          ]
        }
      ]
    },
    {
      "cell_type": "code",
      "source": [
        "head(df)"
      ],
      "metadata": {
        "colab": {
          "base_uri": "https://localhost:8080/",
          "height": 286
        },
        "id": "TvL4xUWx-DYd",
        "outputId": "8b2dbcaf-34eb-4bd3-9c05-e6095f269118"
      },
      "execution_count": null,
      "outputs": [
        {
          "output_type": "display_data",
          "data": {
            "text/html": [
              "<table class=\"dataframe\">\n",
              "<caption>A tibble: 6 × 9</caption>\n",
              "<thead>\n",
              "\t<tr><th scope=col>longitude</th><th scope=col>latitude</th><th scope=col>housing_median_age</th><th scope=col>total_rooms</th><th scope=col>total_bedrooms</th><th scope=col>population</th><th scope=col>households</th><th scope=col>median_income</th><th scope=col>median_house_value</th></tr>\n",
              "\t<tr><th scope=col>&lt;dbl&gt;</th><th scope=col>&lt;dbl&gt;</th><th scope=col>&lt;dbl&gt;</th><th scope=col>&lt;dbl&gt;</th><th scope=col>&lt;dbl&gt;</th><th scope=col>&lt;dbl&gt;</th><th scope=col>&lt;dbl&gt;</th><th scope=col>&lt;dbl&gt;</th><th scope=col>&lt;dbl&gt;</th></tr>\n",
              "</thead>\n",
              "<tbody>\n",
              "\t<tr><td>-114.31</td><td>34.19</td><td>15</td><td>5612</td><td>1283</td><td>1015</td><td>472</td><td>1.4936</td><td>66900</td></tr>\n",
              "\t<tr><td>-114.47</td><td>34.40</td><td>19</td><td>7650</td><td>1901</td><td>1129</td><td>463</td><td>1.8200</td><td>80100</td></tr>\n",
              "\t<tr><td>-114.56</td><td>33.69</td><td>17</td><td> 720</td><td> 174</td><td> 333</td><td>117</td><td>1.6509</td><td>85700</td></tr>\n",
              "\t<tr><td>-114.57</td><td>33.64</td><td>14</td><td>1501</td><td> 337</td><td> 515</td><td>226</td><td>3.1917</td><td>73400</td></tr>\n",
              "\t<tr><td>-114.57</td><td>33.57</td><td>20</td><td>1454</td><td> 326</td><td> 624</td><td>262</td><td>1.9250</td><td>65500</td></tr>\n",
              "\t<tr><td>-114.58</td><td>33.63</td><td>29</td><td>1387</td><td> 236</td><td> 671</td><td>239</td><td>3.3438</td><td>74000</td></tr>\n",
              "</tbody>\n",
              "</table>\n"
            ],
            "text/markdown": "\nA tibble: 6 × 9\n\n| longitude &lt;dbl&gt; | latitude &lt;dbl&gt; | housing_median_age &lt;dbl&gt; | total_rooms &lt;dbl&gt; | total_bedrooms &lt;dbl&gt; | population &lt;dbl&gt; | households &lt;dbl&gt; | median_income &lt;dbl&gt; | median_house_value &lt;dbl&gt; |\n|---|---|---|---|---|---|---|---|---|\n| -114.31 | 34.19 | 15 | 5612 | 1283 | 1015 | 472 | 1.4936 | 66900 |\n| -114.47 | 34.40 | 19 | 7650 | 1901 | 1129 | 463 | 1.8200 | 80100 |\n| -114.56 | 33.69 | 17 |  720 |  174 |  333 | 117 | 1.6509 | 85700 |\n| -114.57 | 33.64 | 14 | 1501 |  337 |  515 | 226 | 3.1917 | 73400 |\n| -114.57 | 33.57 | 20 | 1454 |  326 |  624 | 262 | 1.9250 | 65500 |\n| -114.58 | 33.63 | 29 | 1387 |  236 |  671 | 239 | 3.3438 | 74000 |\n\n",
            "text/latex": "A tibble: 6 × 9\n\\begin{tabular}{lllllllll}\n longitude & latitude & housing\\_median\\_age & total\\_rooms & total\\_bedrooms & population & households & median\\_income & median\\_house\\_value\\\\\n <dbl> & <dbl> & <dbl> & <dbl> & <dbl> & <dbl> & <dbl> & <dbl> & <dbl>\\\\\n\\hline\n\t -114.31 & 34.19 & 15 & 5612 & 1283 & 1015 & 472 & 1.4936 & 66900\\\\\n\t -114.47 & 34.40 & 19 & 7650 & 1901 & 1129 & 463 & 1.8200 & 80100\\\\\n\t -114.56 & 33.69 & 17 &  720 &  174 &  333 & 117 & 1.6509 & 85700\\\\\n\t -114.57 & 33.64 & 14 & 1501 &  337 &  515 & 226 & 3.1917 & 73400\\\\\n\t -114.57 & 33.57 & 20 & 1454 &  326 &  624 & 262 & 1.9250 & 65500\\\\\n\t -114.58 & 33.63 & 29 & 1387 &  236 &  671 & 239 & 3.3438 & 74000\\\\\n\\end{tabular}\n",
            "text/plain": [
              "  longitude latitude housing_median_age total_rooms total_bedrooms population\n",
              "1 -114.31   34.19    15                 5612        1283           1015      \n",
              "2 -114.47   34.40    19                 7650        1901           1129      \n",
              "3 -114.56   33.69    17                  720         174            333      \n",
              "4 -114.57   33.64    14                 1501         337            515      \n",
              "5 -114.57   33.57    20                 1454         326            624      \n",
              "6 -114.58   33.63    29                 1387         236            671      \n",
              "  households median_income median_house_value\n",
              "1 472        1.4936        66900             \n",
              "2 463        1.8200        80100             \n",
              "3 117        1.6509        85700             \n",
              "4 226        3.1917        73400             \n",
              "5 262        1.9250        65500             \n",
              "6 239        3.3438        74000             "
            ]
          },
          "metadata": {}
        }
      ]
    },
    {
      "cell_type": "markdown",
      "source": [
        "## **Running R code in a Python runtime.**"
      ],
      "metadata": {
        "id": "MFfUQa-q6Try"
      }
    },
    {
      "cell_type": "markdown",
      "source": [
        "In case you want to run both R and Python code in a Python runtime environment then you need to use rpy2 package. And the process are as follows:\n",
        "\n",
        "*   Open a browser \n",
        "*   Create a new Colab Notebook \n",
        "*   Uninstall the current version of rpy2 `!pip uninstall rpy2 -y`\n",
        "*   Install this version of rpy2 `!pip install rpy2==3.5.1`\n",
        "*   Restart the runtime\n",
        "*   Write the following code `%load_ext rpy2.ipython`\n",
        "*   Use this command at the beginning of the cell `%%R`\n",
        "\n",
        "x <- c(\"We love R programming!\")\n",
        "print(x)"
      ],
      "metadata": {
        "id": "2tVBEODT6Tks"
      }
    },
    {
      "cell_type": "code",
      "source": [
        "!pip uninstall rpy2 -y"
      ],
      "metadata": {
        "id": "nuWr4uEQAZR5"
      },
      "execution_count": null,
      "outputs": []
    },
    {
      "cell_type": "code",
      "source": [
        "!pip install rpy2==3.5.1"
      ],
      "metadata": {
        "id": "h4quvzFKAemu"
      },
      "execution_count": null,
      "outputs": []
    },
    {
      "cell_type": "code",
      "source": [
        "%load_ext rpy2.ipython"
      ],
      "metadata": {
        "id": "u4HcKJV0AhK2"
      },
      "execution_count": null,
      "outputs": []
    },
    {
      "cell_type": "code",
      "source": [
        "%%R\n",
        "\n",
        "x <- c(\"We love R programming!\")\n",
        "print(x)"
      ],
      "metadata": {
        "id": "0xDdd8mtAh5L"
      },
      "execution_count": null,
      "outputs": []
    }
  ]
}